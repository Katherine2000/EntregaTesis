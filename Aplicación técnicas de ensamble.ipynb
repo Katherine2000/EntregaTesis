{
 "cells": [
  {
   "cell_type": "raw",
   "id": "35d6ea66",
   "metadata": {},
   "source": [
    "Este notebook presenta el proceso de construcción de modelos a partir de las técnicas de ensamble y evaluación de los mismos.\n",
    "\n",
    "Con cada una de las técnicas se realizó un proceso cuidadoso para seleccionar los parámetros y posibles valores que estos podrían tener según la documentación, y luego usando una búsqueda exhaustiva, combinada con la técnica de validación cruzada se obtuvieron los valores que mejor se ajustaron a los parámetros de dichos algoritmos. \n",
    "\n",
    "Luego de estimar los valores de los parámetros de las técnicas, se construyeron los cuatro modelos y se realizó la evaluación de los mismos."
   ]
  },
  {
   "cell_type": "markdown",
   "id": "1c73a258",
   "metadata": {},
   "source": [
    "# PRIMERA PARTE"
   ]
  },
  {
   "cell_type": "raw",
   "id": "2db71d3c",
   "metadata": {},
   "source": [
    "En esta primera parte se realizó el cargue del conjunto de datos ya preprocesado, se extrajo la columna clasificadora del conjunto de datos y se definió las iteraciones que se van a utilizar para validación cruzada."
   ]
  },
  {
   "cell_type": "code",
   "execution_count": 125,
   "id": "f7dbbe87",
   "metadata": {
    "scrolled": false
   },
   "outputs": [
    {
     "data": {
      "text/html": [
       "<div>\n",
       "<style scoped>\n",
       "    .dataframe tbody tr th:only-of-type {\n",
       "        vertical-align: middle;\n",
       "    }\n",
       "\n",
       "    .dataframe tbody tr th {\n",
       "        vertical-align: top;\n",
       "    }\n",
       "\n",
       "    .dataframe thead th {\n",
       "        text-align: right;\n",
       "    }\n",
       "</style>\n",
       "<table border=\"1\" class=\"dataframe\">\n",
       "  <thead>\n",
       "    <tr style=\"text-align: right;\">\n",
       "      <th></th>\n",
       "      <th>EB_LC_SEXO</th>\n",
       "      <th>EB_LC_ETNIA</th>\n",
       "      <th>EDAD</th>\n",
       "      <th>EB_LC_DPTO_INFECCION</th>\n",
       "      <th>EB_LC_ESTATURA</th>\n",
       "      <th>EB_LC_NUMERO_LC_ACTIVAS</th>\n",
       "      <th>EB_LC_TIEMPO_EVOLUCION</th>\n",
       "      <th>EB_ULCERA_AREA_1</th>\n",
       "      <th>EB_LC_TTO_MCTO_GLUCANTIME_DOSIS</th>\n",
       "      <th>EF_LC_ESTADO_FINAL_ESTUDIO</th>\n",
       "    </tr>\n",
       "  </thead>\n",
       "  <tbody>\n",
       "    <tr>\n",
       "      <th>SU2050</th>\n",
       "      <td>-0.6201736729460421</td>\n",
       "      <td>-0.8488746876271653</td>\n",
       "      <td>-0.8907539631968076</td>\n",
       "      <td>0.24253562503633308</td>\n",
       "      <td>1.1025015873359132</td>\n",
       "      <td>-0.8402966482242443</td>\n",
       "      <td>-0.9221562693253585</td>\n",
       "      <td>-0.3832495598036824</td>\n",
       "      <td>-1.003398480484348</td>\n",
       "      <td>0</td>\n",
       "    </tr>\n",
       "    <tr>\n",
       "      <th>SU2052</th>\n",
       "      <td>-0.6201736729460421</td>\n",
       "      <td>-0.8488746876271653</td>\n",
       "      <td>-1.1336868622504823</td>\n",
       "      <td>0.24253562503633308</td>\n",
       "      <td>-0.8077150666578622</td>\n",
       "      <td>1.5992742659751746</td>\n",
       "      <td>-0.7474319235584486</td>\n",
       "      <td>-0.4430698627878394</td>\n",
       "      <td>-0.6064496310619687</td>\n",
       "      <td>1</td>\n",
       "    </tr>\n",
       "    <tr>\n",
       "      <th>SU2066</th>\n",
       "      <td>1.6124515496597103</td>\n",
       "      <td>-0.8488746876271653</td>\n",
       "      <td>-1.3766197613041573</td>\n",
       "      <td>0.24253562503633308</td>\n",
       "      <td>-0.277099329437369</td>\n",
       "      <td>1.5992742659751746</td>\n",
       "      <td>-0.2232588862577184</td>\n",
       "      <td>-0.40489354933605637</td>\n",
       "      <td>0.9813457666275486</td>\n",
       "      <td>1</td>\n",
       "    </tr>\n",
       "    <tr>\n",
       "      <th>SU2065</th>\n",
       "      <td>-0.6201736729460421</td>\n",
       "      <td>0.24253562503633308</td>\n",
       "      <td>0.6883098806520789</td>\n",
       "      <td>0.24253562503633308</td>\n",
       "      <td>-0.8077150666578622</td>\n",
       "      <td>-0.8402966482242443</td>\n",
       "      <td>-0.7474319235584486</td>\n",
       "      <td>-0.3149098141312505</td>\n",
       "      <td>-1.4003473299067273</td>\n",
       "      <td>0</td>\n",
       "    </tr>\n",
       "    <tr>\n",
       "      <th>SU2073</th>\n",
       "      <td>-0.6201736729460421</td>\n",
       "      <td>0.24253562503633308</td>\n",
       "      <td>-0.5263546146162953</td>\n",
       "      <td>0.24253562503633308</td>\n",
       "      <td>0.6780089975595187</td>\n",
       "      <td>0.13553171745552323</td>\n",
       "      <td>-0.7474319235584486</td>\n",
       "      <td>-0.48562102518765543</td>\n",
       "      <td>0.9813457666275486</td>\n",
       "      <td>1</td>\n",
       "    </tr>\n",
       "    <tr>\n",
       "      <th>SU2071</th>\n",
       "      <td>-0.6201736729460421</td>\n",
       "      <td>1.3339459376998315</td>\n",
       "      <td>1.295642128286266</td>\n",
       "      <td>0.24253562503633308</td>\n",
       "      <td>-0.17097618199327036</td>\n",
       "      <td>-0.3523824653843606</td>\n",
       "      <td>-0.5727075777915385</td>\n",
       "      <td>-0.4567009710890792</td>\n",
       "      <td>-1.003398480484348</td>\n",
       "      <td>0</td>\n",
       "    </tr>\n",
       "    <tr>\n",
       "      <th>SU2068</th>\n",
       "      <td>-0.6201736729460421</td>\n",
       "      <td>1.3339459376998315</td>\n",
       "      <td>2.6317730730814777</td>\n",
       "      <td>0.24253562503633308</td>\n",
       "      <td>-0.06485303454917173</td>\n",
       "      <td>0.13553171745552323</td>\n",
       "      <td>-0.5727075777915385</td>\n",
       "      <td>-0.3306592703441695</td>\n",
       "      <td>0.9813457666275486</td>\n",
       "      <td>0</td>\n",
       "    </tr>\n",
       "    <tr>\n",
       "      <th>SU2158</th>\n",
       "      <td>1.6124515496597103</td>\n",
       "      <td>-0.8488746876271653</td>\n",
       "      <td>1.1741756787594284</td>\n",
       "      <td>0.24253562503633308</td>\n",
       "      <td>-1.6567002462106513</td>\n",
       "      <td>-0.8402966482242443</td>\n",
       "      <td>-0.5727075777915385</td>\n",
       "      <td>0.3575274947022063</td>\n",
       "      <td>-0.2095007816395894</td>\n",
       "      <td>1</td>\n",
       "    </tr>\n",
       "    <tr>\n",
       "      <th>SU2159</th>\n",
       "      <td>1.6124515496597103</td>\n",
       "      <td>1.3339459376998315</td>\n",
       "      <td>-0.04048881650894566</td>\n",
       "      <td>0.24253562503633308</td>\n",
       "      <td>-1.444453951322454</td>\n",
       "      <td>-0.8402966482242443</td>\n",
       "      <td>-0.5727075777915385</td>\n",
       "      <td>-0.259924870510709</td>\n",
       "      <td>-1.003398480484348</td>\n",
       "      <td>0</td>\n",
       "    </tr>\n",
       "    <tr>\n",
       "      <th>SU2161</th>\n",
       "      <td>1.6124515496597103</td>\n",
       "      <td>1.3339459376998315</td>\n",
       "      <td>-0.8907539631968076</td>\n",
       "      <td>2.42535625036333</td>\n",
       "      <td>-0.7015919192137635</td>\n",
       "      <td>0.623445900295407</td>\n",
       "      <td>2.3976063002459322</td>\n",
       "      <td>-0.48562102518765543</td>\n",
       "      <td>-1.003398480484348</td>\n",
       "      <td>0</td>\n",
       "    </tr>\n",
       "    <tr>\n",
       "      <th>SU2162</th>\n",
       "      <td>-0.6201736729460421</td>\n",
       "      <td>-0.8488746876271653</td>\n",
       "      <td>-0.5263546146162953</td>\n",
       "      <td>0.24253562503633308</td>\n",
       "      <td>0.041270112894926915</td>\n",
       "      <td>0.13553171745552323</td>\n",
       "      <td>0.1261898052761017</td>\n",
       "      <td>-0.48562102518765543</td>\n",
       "      <td>0.1874480677827899</td>\n",
       "      <td>0</td>\n",
       "    </tr>\n",
       "    <tr>\n",
       "      <th>SU2167</th>\n",
       "      <td>1.6124515496597103</td>\n",
       "      <td>-0.8488746876271653</td>\n",
       "      <td>-1.1336868622504823</td>\n",
       "      <td>0.24253562503633308</td>\n",
       "      <td>-1.2322076564342568</td>\n",
       "      <td>0.13553171745552323</td>\n",
       "      <td>0.9998115341106519</td>\n",
       "      <td>-0.4742924689643278</td>\n",
       "      <td>-1.003398480484348</td>\n",
       "      <td>0</td>\n",
       "    </tr>\n",
       "    <tr>\n",
       "      <th>SU2168</th>\n",
       "      <td>-0.6201736729460421</td>\n",
       "      <td>-0.8488746876271653</td>\n",
       "      <td>-0.28342171556262047</td>\n",
       "      <td>0.24253562503633308</td>\n",
       "      <td>1.8453636194446037</td>\n",
       "      <td>0.13553171745552323</td>\n",
       "      <td>-0.5727075777915385</td>\n",
       "      <td>-0.2299916934978514</td>\n",
       "      <td>1.3782946160499279</td>\n",
       "      <td>1</td>\n",
       "    </tr>\n",
       "    <tr>\n",
       "      <th>SU2172</th>\n",
       "      <td>-0.6201736729460421</td>\n",
       "      <td>1.3339459376998315</td>\n",
       "      <td>0.5668434311252414</td>\n",
       "      <td>0.24253562503633308</td>\n",
       "      <td>-0.17097618199327036</td>\n",
       "      <td>-0.8402966482242443</td>\n",
       "      <td>0.1261898052761017</td>\n",
       "      <td>-0.42372842533337757</td>\n",
       "      <td>-1.003398480484348</td>\n",
       "      <td>0</td>\n",
       "    </tr>\n",
       "    <tr>\n",
       "      <th>SU2173</th>\n",
       "      <td>-0.6201736729460421</td>\n",
       "      <td>-0.8488746876271653</td>\n",
       "      <td>-0.16195526603578309</td>\n",
       "      <td>0.24253562503633308</td>\n",
       "      <td>1.739240472000505</td>\n",
       "      <td>2.5751026316549424</td>\n",
       "      <td>2.3976063002459322</td>\n",
       "      <td>-0.4625955044085342</td>\n",
       "      <td>1.3782946160499279</td>\n",
       "      <td>0</td>\n",
       "    </tr>\n",
       "    <tr>\n",
       "      <th>SU1154</th>\n",
       "      <td>-0.6201736729460421</td>\n",
       "      <td>1.3339459376998315</td>\n",
       "      <td>0.6883098806520789</td>\n",
       "      <td>-1.9402850002906638</td>\n",
       "      <td>0.14739326033902556</td>\n",
       "      <td>-0.8402966482242443</td>\n",
       "      <td>-0.7474319235584486</td>\n",
       "      <td>-0.01327549192476224</td>\n",
       "      <td>0.9813457666275486</td>\n",
       "      <td>0</td>\n",
       "    </tr>\n",
       "    <tr>\n",
       "      <th>SU1167</th>\n",
       "      <td>-0.6201736729460421</td>\n",
       "      <td>-0.8488746876271653</td>\n",
       "      <td>-0.16195526603578309</td>\n",
       "      <td>-1.9402850002906638</td>\n",
       "      <td>0.890255292447716</td>\n",
       "      <td>-0.8402966482242443</td>\n",
       "      <td>0.1261898052761017</td>\n",
       "      <td>1.7897609382051058</td>\n",
       "      <td>-0.011026356928399738</td>\n",
       "      <td>1</td>\n",
       "    </tr>\n",
       "    <tr>\n",
       "      <th>SU1168</th>\n",
       "      <td>-0.6201736729460421</td>\n",
       "      <td>-0.8488746876271653</td>\n",
       "      <td>0.08097763301789175</td>\n",
       "      <td>-1.9402850002906638</td>\n",
       "      <td>0.890255292447716</td>\n",
       "      <td>-0.8402966482242443</td>\n",
       "      <td>0.825087188343742</td>\n",
       "      <td>3.506866124787294</td>\n",
       "      <td>1.3782946160499279</td>\n",
       "      <td>1</td>\n",
       "    </tr>\n",
       "  </tbody>\n",
       "</table>\n",
       "</div>"
      ],
      "text/plain": [
       "                 EB_LC_SEXO          EB_LC_ETNIA                  EDAD  \\\n",
       "SU2050  -0.6201736729460421  -0.8488746876271653   -0.8907539631968076   \n",
       "SU2052  -0.6201736729460421  -0.8488746876271653   -1.1336868622504823   \n",
       "SU2066   1.6124515496597103  -0.8488746876271653   -1.3766197613041573   \n",
       "SU2065  -0.6201736729460421  0.24253562503633308    0.6883098806520789   \n",
       "SU2073  -0.6201736729460421  0.24253562503633308   -0.5263546146162953   \n",
       "SU2071  -0.6201736729460421   1.3339459376998315     1.295642128286266   \n",
       "SU2068  -0.6201736729460421   1.3339459376998315    2.6317730730814777   \n",
       "SU2158   1.6124515496597103  -0.8488746876271653    1.1741756787594284   \n",
       "SU2159   1.6124515496597103   1.3339459376998315  -0.04048881650894566   \n",
       "SU2161   1.6124515496597103   1.3339459376998315   -0.8907539631968076   \n",
       "SU2162  -0.6201736729460421  -0.8488746876271653   -0.5263546146162953   \n",
       "SU2167   1.6124515496597103  -0.8488746876271653   -1.1336868622504823   \n",
       "SU2168  -0.6201736729460421  -0.8488746876271653  -0.28342171556262047   \n",
       "SU2172  -0.6201736729460421   1.3339459376998315    0.5668434311252414   \n",
       "SU2173  -0.6201736729460421  -0.8488746876271653  -0.16195526603578309   \n",
       "SU1154  -0.6201736729460421   1.3339459376998315    0.6883098806520789   \n",
       "SU1167  -0.6201736729460421  -0.8488746876271653  -0.16195526603578309   \n",
       "SU1168  -0.6201736729460421  -0.8488746876271653   0.08097763301789175   \n",
       "\n",
       "       EB_LC_DPTO_INFECCION        EB_LC_ESTATURA EB_LC_NUMERO_LC_ACTIVAS  \\\n",
       "SU2050  0.24253562503633308    1.1025015873359132     -0.8402966482242443   \n",
       "SU2052  0.24253562503633308   -0.8077150666578622      1.5992742659751746   \n",
       "SU2066  0.24253562503633308    -0.277099329437369      1.5992742659751746   \n",
       "SU2065  0.24253562503633308   -0.8077150666578622     -0.8402966482242443   \n",
       "SU2073  0.24253562503633308    0.6780089975595187     0.13553171745552323   \n",
       "SU2071  0.24253562503633308  -0.17097618199327036     -0.3523824653843606   \n",
       "SU2068  0.24253562503633308  -0.06485303454917173     0.13553171745552323   \n",
       "SU2158  0.24253562503633308   -1.6567002462106513     -0.8402966482242443   \n",
       "SU2159  0.24253562503633308    -1.444453951322454     -0.8402966482242443   \n",
       "SU2161     2.42535625036333   -0.7015919192137635       0.623445900295407   \n",
       "SU2162  0.24253562503633308  0.041270112894926915     0.13553171745552323   \n",
       "SU2167  0.24253562503633308   -1.2322076564342568     0.13553171745552323   \n",
       "SU2168  0.24253562503633308    1.8453636194446037     0.13553171745552323   \n",
       "SU2172  0.24253562503633308  -0.17097618199327036     -0.8402966482242443   \n",
       "SU2173  0.24253562503633308     1.739240472000505      2.5751026316549424   \n",
       "SU1154  -1.9402850002906638   0.14739326033902556     -0.8402966482242443   \n",
       "SU1167  -1.9402850002906638     0.890255292447716     -0.8402966482242443   \n",
       "SU1168  -1.9402850002906638     0.890255292447716     -0.8402966482242443   \n",
       "\n",
       "       EB_LC_TIEMPO_EVOLUCION      EB_ULCERA_AREA_1  \\\n",
       "SU2050    -0.9221562693253585   -0.3832495598036824   \n",
       "SU2052    -0.7474319235584486   -0.4430698627878394   \n",
       "SU2066    -0.2232588862577184  -0.40489354933605637   \n",
       "SU2065    -0.7474319235584486   -0.3149098141312505   \n",
       "SU2073    -0.7474319235584486  -0.48562102518765543   \n",
       "SU2071    -0.5727075777915385   -0.4567009710890792   \n",
       "SU2068    -0.5727075777915385   -0.3306592703441695   \n",
       "SU2158    -0.5727075777915385    0.3575274947022063   \n",
       "SU2159    -0.5727075777915385    -0.259924870510709   \n",
       "SU2161     2.3976063002459322  -0.48562102518765543   \n",
       "SU2162     0.1261898052761017  -0.48562102518765543   \n",
       "SU2167     0.9998115341106519   -0.4742924689643278   \n",
       "SU2168    -0.5727075777915385   -0.2299916934978514   \n",
       "SU2172     0.1261898052761017  -0.42372842533337757   \n",
       "SU2173     2.3976063002459322   -0.4625955044085342   \n",
       "SU1154    -0.7474319235584486  -0.01327549192476224   \n",
       "SU1167     0.1261898052761017    1.7897609382051058   \n",
       "SU1168      0.825087188343742     3.506866124787294   \n",
       "\n",
       "       EB_LC_TTO_MCTO_GLUCANTIME_DOSIS  EF_LC_ESTADO_FINAL_ESTUDIO  \n",
       "SU2050              -1.003398480484348                           0  \n",
       "SU2052             -0.6064496310619687                           1  \n",
       "SU2066              0.9813457666275486                           1  \n",
       "SU2065             -1.4003473299067273                           0  \n",
       "SU2073              0.9813457666275486                           1  \n",
       "SU2071              -1.003398480484348                           0  \n",
       "SU2068              0.9813457666275486                           0  \n",
       "SU2158             -0.2095007816395894                           1  \n",
       "SU2159              -1.003398480484348                           0  \n",
       "SU2161              -1.003398480484348                           0  \n",
       "SU2162              0.1874480677827899                           0  \n",
       "SU2167              -1.003398480484348                           0  \n",
       "SU2168              1.3782946160499279                           1  \n",
       "SU2172              -1.003398480484348                           0  \n",
       "SU2173              1.3782946160499279                           0  \n",
       "SU1154              0.9813457666275486                           0  \n",
       "SU1167           -0.011026356928399738                           1  \n",
       "SU1168              1.3782946160499279                           1  "
      ]
     },
     "execution_count": 125,
     "metadata": {},
     "output_type": "execute_result"
    }
   ],
   "source": [
    "#Carga de librerías y lectura del archivo que contiene los datos\n",
    "\n",
    "import numpy as np\n",
    "import pandas as pd\n",
    "import sklearn as sk\n",
    "import seaborn as sns\n",
    "import matplotlib.pyplot as plt\n",
    "from sklearn.preprocessing import LabelEncoder \n",
    "import seaborn as sn\n",
    "\n",
    "from sklearn.model_selection import train_test_split\n",
    "\n",
    "from sklearn.neighbors import KNeighborsClassifier\n",
    "from sklearn.ensemble import BaggingClassifier\n",
    "from sklearn.model_selection import GridSearchCV\n",
    "from sklearn.metrics import f1_score\n",
    "from sklearn.metrics import precision_score\n",
    "from sklearn.metrics import recall_score\n",
    "from sklearn.metrics import classification_report\n",
    "from sklearn.ensemble import GradientBoostingClassifier\n",
    "from sklearn.tree import DecisionTreeClassifier\n",
    "from sklearn.ensemble import AdaBoostClassifier\n",
    "from sklearn.ensemble import StackingClassifier\n",
    "from sklearn.svm import SVC\n",
    "from sklearn.ensemble import RandomForestClassifier\n",
    "from sklearn.linear_model import LogisticRegression\n",
    "import statistics\n",
    "\n",
    "from sklearn.model_selection import cross_val_score\n",
    "from sklearn.model_selection import KFold\n",
    "\n",
    "\n",
    "\n",
    "#El dataset viene preprocesado\n",
    "\n",
    "data = pd.read_csv('datos_Preprocesados_Ultimo.csv', sep=',', index_col=0, na_values=['?'], decimal=\",\")\n",
    "data"
   ]
  },
  {
   "cell_type": "code",
   "execution_count": 126,
   "id": "0ffb4104",
   "metadata": {},
   "outputs": [
    {
     "name": "stdout",
     "output_type": "stream",
     "text": [
      "0    11\n",
      "1     7\n",
      "Name: EF_LC_ESTADO_FINAL_ESTUDIO, dtype: int64\n"
     ]
    },
    {
     "data": {
      "image/png": "[encoded data removed]",
      "text/plain": [
       "<Figure size 432x288 with 1 Axes>"
      ]
     },
     "metadata": {
      "needs_background": "light"
     },
     "output_type": "display_data"
    }
   ],
   "source": [
    "clasificacion = (data['EF_LC_ESTADO_FINAL_ESTUDIO'].value_counts())\n",
    "print(clasificacion)\n",
    "clasificacion.plot(kind='bar');"
   ]
  },
  {
   "cell_type": "code",
   "execution_count": 127,
   "id": "71e3ee84",
   "metadata": {},
   "outputs": [],
   "source": [
    "copiaData = data.copy(deep=True) \n",
    "target = copiaData['EF_LC_ESTADO_FINAL_ESTUDIO'].copy()\n",
    "data1 = copiaData.drop(columns=['EF_LC_ESTADO_FINAL_ESTUDIO'])"
   ]
  },
  {
   "cell_type": "markdown",
   "id": "f756f2e1",
   "metadata": {},
   "source": [
    "## DEFINIR KFOLD"
   ]
  },
  {
   "cell_type": "code",
   "execution_count": 128,
   "id": "39cdcdf7",
   "metadata": {},
   "outputs": [
    {
     "name": "stdout",
     "output_type": "stream",
     "text": [
      "TRAIN: [ 6  7  8  9 10 11 12 13 14 15 16 17] TEST: [0 1 2 3 4 5]\n",
      "TRAIN: [ 0  1  2  3  4  5 12 13 14 15 16 17] TEST: [ 6  7  8  9 10 11]\n",
      "TRAIN: [ 0  1  2  3  4  5  6  7  8  9 10 11] TEST: [12 13 14 15 16 17]\n"
     ]
    }
   ],
   "source": [
    "kf = KFold(n_splits = 3 ,shuffle = False)\n",
    "for train_index, test_index in kf.split(data1):\n",
    "    print(\"TRAIN:\", train_index, \"TEST:\", test_index)"
   ]
  },
  {
   "cell_type": "markdown",
   "id": "05e01122",
   "metadata": {},
   "source": [
    "# SEGUNDA PARTE"
   ]
  },
  {
   "cell_type": "raw",
   "id": "88722f62",
   "metadata": {},
   "source": [
    "En esta segunda parte se hace la estimación de parámetros de los algoritmos de las técnicas de ensamble, la construcción de los modelos y evaluación de estos mismos."
   ]
  },
  {
   "cell_type": "markdown",
   "id": "174ddd6f",
   "metadata": {},
   "source": [
    "## TÉCNICA BAGGING "
   ]
  },
  {
   "cell_type": "raw",
   "id": "e1d9fd2f",
   "metadata": {},
   "source": [
    "Es una técnica que combina varios modelos de machine learning.La forma de conseguir que los errores se compensen entre sí, es que cada modelo se entrena por separado con subconjuntos del conjunto de entrenamiento. Estos subconjuntos se forman eligiendo muestras aleatorias con repetición del conjunto de entrenamiento que están definidas a su vez por un subconjunto aleatorio de atributos. El estimador base seleccionado para construir un modelo usando esta técnica es k vecinos más cercanos."
   ]
  },
  {
   "cell_type": "raw",
   "id": "bd29c8af",
   "metadata": {},
   "source": [
    "1) Estimación de parámetros del algoritmo base:"
   ]
  },
  {
   "cell_type": "code",
   "execution_count": 11,
   "id": "4beed6eb",
   "metadata": {},
   "outputs": [
    {
     "name": "stdout",
     "output_type": "stream",
     "text": [
      "Parámetros seleccionados para knn_class: KNeighborsClassifier(algorithm='ball_tree', leaf_size=2, n_neighbors=11, p=4,\n",
      "                     weights='distance')\n",
      "Parámetros:  {'algorithm': 'ball_tree', 'leaf_size': 2, 'n_neighbors': 11, 'p': 4, 'weights': 'distance'}\n",
      "##########################################################################################################\n",
      "\n"
     ]
    }
   ],
   "source": [
    "## K-VECINOS MAS CERCANOS\n",
    "knn_class = KNeighborsClassifier()\n",
    "parameter_space = {\n",
    "    'n_neighbors':[(3),(5),(7),(9),(11)],#se desea un numero impar por la votación\n",
    "    'weights': ['distance','uniform'], #funcion de peso\n",
    "    'algorithm': ['ball_tree', 'kd_tree', 'brute'],#estructura utilizada para calcular los vecinos mas cercanos\n",
    "    'leaf_size': [(2),(3),(4),(5),(6),(7),(8),(9),(10),(11),(12)], #cantidad de hojas del algortimo seleccionado(ball tree o kd tree)\n",
    "    'p': [i for i in range(1,15)], # 2 es la distancia euclidiana , 1 distancia manhattan, arbitrario a p para cualquier otro\n",
    "}\n",
    "\n",
    "clf = GridSearchCV(knn_class, parameter_space, n_jobs=-1, cv=kf, scoring='f1',refit=True) \n",
    "objetoEntrenado = clf.fit(data1, target)\n",
    "best_model = objetoEntrenado.best_estimator_\n",
    "\n",
    "print('Parámetros seleccionados para knn_class:',best_model)\n",
    "print('Parámetros: ', clf.best_params_)\n",
    "print('##########################################################################################################')\n",
    "print('') "
   ]
  },
  {
   "cell_type": "raw",
   "id": "e836f7f4",
   "metadata": {},
   "source": [
    "2) Estimación de parámetros para el algoritmo de bagging:"
   ]
  },
  {
   "cell_type": "code",
   "execution_count": 12,
   "id": "6c92b619",
   "metadata": {},
   "outputs": [
    {
     "name": "stdout",
     "output_type": "stream",
     "text": [
      "Parámetros seleccionados para BaggingClassifier: BaggingClassifier(base_estimator=KNeighborsClassifier(algorithm='ball_tree',\n",
      "                                                      leaf_size=2,\n",
      "                                                      n_neighbors=11, p=4,\n",
      "                                                      weights='distance'),\n",
      "                  max_features=3, max_samples=12, n_estimators=3)\n",
      "##########################################################################################################\n",
      "\n"
     ]
    }
   ],
   "source": [
    "bag_class = BaggingClassifier(base_estimator=clf.best_estimator_)\n",
    "parametros = {'n_estimators' : [i for i in range(3,101) if i%2 != 0],#se desea un numero impar por la votación\n",
    "             'max_samples' : [(12),(11)],\n",
    "             'max_features' : [(3),(4),(5),(6),(7),(8),(9)],\n",
    "             'bootstrap' : [True],\n",
    "             }\n",
    "\n",
    "clf1 = GridSearchCV(bag_class, parametros, n_jobs=-1, cv=kf, scoring='f1', refit=True) #recordar refit\n",
    "objEntrenado = clf1.fit(data1, target)\n",
    "mejorModelo = objEntrenado.best_estimator_\n",
    "\n",
    "print('Parámetros seleccionados para BaggingClassifier:',mejorModelo)\n",
    "print('##########################################################################################################')\n",
    "print('')"
   ]
  },
  {
   "cell_type": "raw",
   "id": "fe48d451",
   "metadata": {},
   "source": [
    "3) Construcción del modelo"
   ]
  },
  {
   "cell_type": "code",
   "execution_count": 115,
   "id": "3055dea1",
   "metadata": {},
   "outputs": [
    {
     "name": "stdout",
     "output_type": "stream",
     "text": [
      "BaggingClassifier(base_estimator=KNeighborsClassifier(algorithm='ball_tree',\n",
      "                                                      leaf_size=2,\n",
      "                                                      n_neighbors=11, p=4,\n",
      "                                                      weights='distance'),\n",
      "                  max_features=3, max_samples=12, n_estimators=3)\n"
     ]
    }
   ],
   "source": [
    "mejorModelo = BaggingClassifier(base_estimator=KNeighborsClassifier(algorithm='ball_tree',\n",
    "                                                      leaf_size=2,\n",
    "                                                      n_neighbors=11, p=4,\n",
    "                                                      weights='distance'),\n",
    "                  max_features=3, max_samples=12, n_estimators=3)\n",
    "\n",
    "print(mejorModelo)"
   ]
  },
  {
   "cell_type": "raw",
   "id": "e725d2b8",
   "metadata": {},
   "source": [
    "4)Para poder realizar una comparación entre el desempeño del algoritmo de ensamble y el algoritmo simple se realizan las siguientes evaluaciones:\n",
    "\n"
   ]
  },
  {
   "cell_type": "raw",
   "id": "d52e5fd2",
   "metadata": {},
   "source": [
    "4.1 Evaluaciones del modelo simple(k vecinos más cercanos)"
   ]
  },
  {
   "cell_type": "code",
   "execution_count": 29,
   "id": "10cfafa8",
   "metadata": {},
   "outputs": [],
   "source": [
    "knn = KNeighborsClassifier(algorithm='ball_tree', leaf_size=2, n_neighbors=11, p=4, weights='distance')"
   ]
  },
  {
   "cell_type": "code",
   "execution_count": 30,
   "id": "855316f9",
   "metadata": {},
   "outputs": [
    {
     "name": "stdout",
     "output_type": "stream",
     "text": [
      "Métricas cross_validation:  [0. 1. 0.]\n",
      "Media de las métricas de cross_validation:  0.3333333333333333\n",
      "Desviación estándar de las métricas de cross_validation:  0.4714045207910317\n"
     ]
    }
   ],
   "source": [
    "#PRIMERA EVALUACIÓN\n",
    "scoress_1 = cross_val_score(knn, data1, target, cv=kf, scoring='f1')\n",
    "print(\"Métricas cross_validation: \",scoress_1)\n",
    "print(\"Media de las métricas de cross_validation: \",scoress_1.mean())\n",
    "print(\"Desviación estándar de las métricas de cross_validation: \",scoress_1.std())"
   ]
  },
  {
   "cell_type": "code",
   "execution_count": 31,
   "id": "4cacd012",
   "metadata": {},
   "outputs": [
    {
     "name": "stdout",
     "output_type": "stream",
     "text": [
      "Métricas cross_validation:  [0. 1. 0.]\n",
      "Media de las métricas de cross_validation:  0.3333333333333333\n",
      "Desviación estándar de las métricas de cross_validation:  0.4714045207910317\n"
     ]
    }
   ],
   "source": [
    "#SEGUNDA EVALUACIÓN\n",
    "\n",
    "scoress_2 = cross_val_score(knn, data1, target, cv=kf, scoring='f1')\n",
    "print(\"Métricas cross_validation: \",scoress_2)\n",
    "print(\"Media de las métricas de cross_validation: \",scoress_2.mean())\n",
    "print(\"Desviación estándar de las métricas de cross_validation: \",scoress_2.std())"
   ]
  },
  {
   "cell_type": "code",
   "execution_count": 32,
   "id": "2aa37099",
   "metadata": {},
   "outputs": [
    {
     "name": "stdout",
     "output_type": "stream",
     "text": [
      "Métricas cross_validation:  [0. 1. 0.]\n",
      "Media de las métricas de cross_validation:  0.3333333333333333\n",
      "Desviación estándar de las métricas de cross_validation:  0.4714045207910317\n"
     ]
    }
   ],
   "source": [
    "#TERCERA EVALUACIÓN\n",
    "scoress_3 = cross_val_score(knn, data1, target, cv=kf, scoring='f1')\n",
    "print(\"Métricas cross_validation: \",scoress_3)\n",
    "print(\"Media de las métricas de cross_validation: \",scoress_3.mean())\n",
    "print(\"Desviación estándar de las métricas de cross_validation: \",scoress_3.std())"
   ]
  },
  {
   "cell_type": "raw",
   "id": "fa6c5d2c",
   "metadata": {},
   "source": [
    "4.2 Evaluaciones del modelo de ensamble(BaggingClassifier)"
   ]
  },
  {
   "cell_type": "code",
   "execution_count": 116,
   "id": "67d79637",
   "metadata": {},
   "outputs": [
    {
     "name": "stdout",
     "output_type": "stream",
     "text": [
      "Métricas cross_validation:  [0.  0.4 0. ]\n",
      "Media de las métricas de cross_validation:  0.13333333333333333\n",
      "Desviación estándar de las métricas de cross_validation:  0.1885618083164127\n"
     ]
    }
   ],
   "source": [
    "#PRIMERA EVALUACIÓN\n",
    "scores_1 = cross_val_score(mejorModelo, data1, target, cv=kf, scoring='f1')#Solo se puede escoger una métrica\n",
    "\n",
    "print(\"Métricas cross_validation: \",scores_1)\n",
    "print(\"Media de las métricas de cross_validation: \",scores_1.mean())\n",
    "print(\"Desviación estándar de las métricas de cross_validation: \",scores_1.std())"
   ]
  },
  {
   "cell_type": "code",
   "execution_count": 117,
   "id": "61c13f80",
   "metadata": {},
   "outputs": [
    {
     "name": "stdout",
     "output_type": "stream",
     "text": [
      "Métricas cross_validation:  [0. 0. 0.]\n",
      "Media de las métricas de cross_validation:  0.0\n",
      "Desviación estándar de las métricas de cross_validation:  0.0\n"
     ]
    }
   ],
   "source": [
    "#SEGUNDA EVALUACIÓN\n",
    "scores_2 = cross_val_score(mejorModelo, data1, target, cv=kf, scoring='f1')#Solo se puede escoger una métrica\n",
    "\n",
    "print(\"Métricas cross_validation: \",scores_2)\n",
    "print(\"Media de las métricas de cross_validation: \",scores_2.mean())\n",
    "print(\"Desviación estándar de las métricas de cross_validation: \",scores_2.std())"
   ]
  },
  {
   "cell_type": "code",
   "execution_count": 119,
   "id": "36a03863",
   "metadata": {},
   "outputs": [
    {
     "name": "stdout",
     "output_type": "stream",
     "text": [
      "Métricas cross_validation:  [0.         0.33333333 0.        ]\n",
      "Media de las métricas de cross_validation:  0.11111111111111112\n",
      "Desviación estándar de las métricas de cross_validation:  0.15713484026367724\n"
     ]
    }
   ],
   "source": [
    "#TERCERA EVALUACIÓN\n",
    "scores_3 = cross_val_score(mejorModelo, data1, target, cv=kf, scoring='f1')#Solo se puede escoger una métrica\n",
    "\n",
    "print(\"Métricas cross_validation: \",scores_3)\n",
    "print(\"Media de las métricas de cross_validation: \",scores_3.mean())\n",
    "print(\"Desviación estándar de las métricas de cross_validation: \",scores_3.std())"
   ]
  },
  {
   "cell_type": "markdown",
   "id": "27808f15",
   "metadata": {},
   "source": [
    "## Gráfica del f1 score obtenido durante las tres iteraciones de la evaluación del modelo simple (k vecinos más cercanos)  y el modelo de ensamble (Bagging Classifier) que presentaron la media más alta"
   ]
  },
  {
   "cell_type": "code",
   "execution_count": 76,
   "id": "645928b8",
   "metadata": {},
   "outputs": [
    {
     "data": {
      "text/html": [
       "<div>\n",
       "<style scoped>\n",
       "    .dataframe tbody tr th:only-of-type {\n",
       "        vertical-align: middle;\n",
       "    }\n",
       "\n",
       "    .dataframe tbody tr th {\n",
       "        vertical-align: top;\n",
       "    }\n",
       "\n",
       "    .dataframe thead th {\n",
       "        text-align: right;\n",
       "    }\n",
       "</style>\n",
       "<table border=\"1\" class=\"dataframe\">\n",
       "  <thead>\n",
       "    <tr style=\"text-align: right;\">\n",
       "      <th></th>\n",
       "      <th>PARTICIONES</th>\n",
       "      <th>VALORES_METRICAS</th>\n",
       "      <th>ESTIMADORES</th>\n",
       "    </tr>\n",
       "  </thead>\n",
       "  <tbody>\n",
       "    <tr>\n",
       "      <th>0</th>\n",
       "      <td>1</td>\n",
       "      <td>0.0</td>\n",
       "      <td>1</td>\n",
       "    </tr>\n",
       "    <tr>\n",
       "      <th>1</th>\n",
       "      <td>2</td>\n",
       "      <td>1.0</td>\n",
       "      <td>1</td>\n",
       "    </tr>\n",
       "    <tr>\n",
       "      <th>2</th>\n",
       "      <td>3</td>\n",
       "      <td>0.0</td>\n",
       "      <td>1</td>\n",
       "    </tr>\n",
       "    <tr>\n",
       "      <th>3</th>\n",
       "      <td>1</td>\n",
       "      <td>0.0</td>\n",
       "      <td>3</td>\n",
       "    </tr>\n",
       "    <tr>\n",
       "      <th>4</th>\n",
       "      <td>2</td>\n",
       "      <td>0.4</td>\n",
       "      <td>3</td>\n",
       "    </tr>\n",
       "    <tr>\n",
       "      <th>5</th>\n",
       "      <td>3</td>\n",
       "      <td>0.0</td>\n",
       "      <td>3</td>\n",
       "    </tr>\n",
       "  </tbody>\n",
       "</table>\n",
       "</div>"
      ],
      "text/plain": [
       "   PARTICIONES  VALORES_METRICAS  ESTIMADORES\n",
       "0            1               0.0            1\n",
       "1            2               1.0            1\n",
       "2            3               0.0            1\n",
       "3            1               0.0            3\n",
       "4            2               0.4            3\n",
       "5            3               0.0            3"
      ]
     },
     "execution_count": 76,
     "metadata": {},
     "output_type": "execute_result"
    }
   ],
   "source": [
    "dataMetricas = {'PARTICIONES' : [1,2,3,1,2,3], 'VALORES_METRICAS' : [0.0 , 1.0 , 0.0, 0.0, 0.4 , 0.0], 'ESTIMADORES' : [1,1,1,3,3,3]}\n",
    "dataMetricas = pd.DataFrame(dataMetricas)\n",
    "dataMetricas "
   ]
  },
  {
   "cell_type": "code",
   "execution_count": 77,
   "id": "d18c1b76",
   "metadata": {},
   "outputs": [
    {
     "data": {
      "text/html": [
       "<div>\n",
       "<style scoped>\n",
       "    .dataframe tbody tr th:only-of-type {\n",
       "        vertical-align: middle;\n",
       "    }\n",
       "\n",
       "    .dataframe tbody tr th {\n",
       "        vertical-align: top;\n",
       "    }\n",
       "\n",
       "    .dataframe thead th {\n",
       "        text-align: right;\n",
       "    }\n",
       "</style>\n",
       "<table border=\"1\" class=\"dataframe\">\n",
       "  <thead>\n",
       "    <tr style=\"text-align: right;\">\n",
       "      <th></th>\n",
       "      <th>ESTIMADORES</th>\n",
       "      <th>PARTICIONES</th>\n",
       "      <th>VALORES_METRICAS</th>\n",
       "      <th>0</th>\n",
       "    </tr>\n",
       "  </thead>\n",
       "  <tbody>\n",
       "    <tr>\n",
       "      <th>0</th>\n",
       "      <td>1</td>\n",
       "      <td>1</td>\n",
       "      <td>0.0</td>\n",
       "      <td>1</td>\n",
       "    </tr>\n",
       "    <tr>\n",
       "      <th>1</th>\n",
       "      <td>1</td>\n",
       "      <td>2</td>\n",
       "      <td>1.0</td>\n",
       "      <td>1</td>\n",
       "    </tr>\n",
       "    <tr>\n",
       "      <th>2</th>\n",
       "      <td>1</td>\n",
       "      <td>3</td>\n",
       "      <td>0.0</td>\n",
       "      <td>1</td>\n",
       "    </tr>\n",
       "    <tr>\n",
       "      <th>3</th>\n",
       "      <td>3</td>\n",
       "      <td>1</td>\n",
       "      <td>0.0</td>\n",
       "      <td>1</td>\n",
       "    </tr>\n",
       "    <tr>\n",
       "      <th>4</th>\n",
       "      <td>3</td>\n",
       "      <td>2</td>\n",
       "      <td>0.4</td>\n",
       "      <td>1</td>\n",
       "    </tr>\n",
       "    <tr>\n",
       "      <th>5</th>\n",
       "      <td>3</td>\n",
       "      <td>3</td>\n",
       "      <td>0.0</td>\n",
       "      <td>1</td>\n",
       "    </tr>\n",
       "  </tbody>\n",
       "</table>\n",
       "</div>"
      ],
      "text/plain": [
       "   ESTIMADORES  PARTICIONES  VALORES_METRICAS  0\n",
       "0            1            1               0.0  1\n",
       "1            1            2               1.0  1\n",
       "2            1            3               0.0  1\n",
       "3            3            1               0.0  1\n",
       "4            3            2               0.4  1\n",
       "5            3            3               0.0  1"
      ]
     },
     "execution_count": 77,
     "metadata": {},
     "output_type": "execute_result"
    }
   ],
   "source": [
    "valores = dataMetricas.groupby(['ESTIMADORES', 'PARTICIONES','VALORES_METRICAS']).size()\n",
    "valores = valores.reset_index()\n",
    "valores"
   ]
  },
  {
   "cell_type": "code",
   "execution_count": 78,
   "id": "436029a4",
   "metadata": {},
   "outputs": [
    {
     "data": {
      "text/html": [
       "<div>\n",
       "<style scoped>\n",
       "    .dataframe tbody tr th:only-of-type {\n",
       "        vertical-align: middle;\n",
       "    }\n",
       "\n",
       "    .dataframe tbody tr th {\n",
       "        vertical-align: top;\n",
       "    }\n",
       "\n",
       "    .dataframe thead th {\n",
       "        text-align: right;\n",
       "    }\n",
       "</style>\n",
       "<table border=\"1\" class=\"dataframe\">\n",
       "  <thead>\n",
       "    <tr style=\"text-align: right;\">\n",
       "      <th>ESTIMADORES</th>\n",
       "      <th>1</th>\n",
       "      <th>3</th>\n",
       "    </tr>\n",
       "    <tr>\n",
       "      <th>PARTICIONES</th>\n",
       "      <th></th>\n",
       "      <th></th>\n",
       "    </tr>\n",
       "  </thead>\n",
       "  <tbody>\n",
       "    <tr>\n",
       "      <th>1</th>\n",
       "      <td>0.0</td>\n",
       "      <td>0.0</td>\n",
       "    </tr>\n",
       "    <tr>\n",
       "      <th>2</th>\n",
       "      <td>1.0</td>\n",
       "      <td>0.4</td>\n",
       "    </tr>\n",
       "    <tr>\n",
       "      <th>3</th>\n",
       "      <td>0.0</td>\n",
       "      <td>0.0</td>\n",
       "    </tr>\n",
       "  </tbody>\n",
       "</table>\n",
       "</div>"
      ],
      "text/plain": [
       "ESTIMADORES    1    3\n",
       "PARTICIONES          \n",
       "1            0.0  0.0\n",
       "2            1.0  0.4\n",
       "3            0.0  0.0"
      ]
     },
     "execution_count": 78,
     "metadata": {},
     "output_type": "execute_result"
    }
   ],
   "source": [
    "valores = pd.pivot_table(valores, columns = 'ESTIMADORES' , index = 'PARTICIONES', values = 'VALORES_METRICAS')\n",
    "valores"
   ]
  },
  {
   "cell_type": "code",
   "execution_count": 79,
   "id": "3d5137c8",
   "metadata": {},
   "outputs": [
    {
     "data": {
      "text/plain": [
       "Text(0.5, 0, 'Iteraciones')"
      ]
     },
     "execution_count": 79,
     "metadata": {},
     "output_type": "execute_result"
    },
    {
     "data": {
      "image/png": "[encoded data removed]",
      "text/plain": [
       "<Figure size 576x432 with 1 Axes>"
      ]
     },
     "metadata": {
      "needs_background": "light"
     },
     "output_type": "display_data"
    }
   ],
   "source": [
    "valores = valores.plot(kind='bar', figsize=(8,6), title = 'MODELO BAGGING COMPUESTO POR K VECINOS MÁS CERCANOS VS MODELO DE K VECINOS MÁS CERCANOS');\n",
    "valores.set_ylabel('Valor de F1 score')\n",
    "valores.set_xlabel('Iteraciones')"
   ]
  },
  {
   "cell_type": "markdown",
   "id": "8e4ce281",
   "metadata": {},
   "source": [
    "## TÉCNICA BOOSTING"
   ]
  },
  {
   "cell_type": "raw",
   "id": "a986ce38",
   "metadata": {},
   "source": [
    "En esta técnica la idea es que cada modelo intente arreglar loserrores de los modelos anteriores[9]. En el caso de clasificación, el primer modelo una vezentrenado seguramente cometerá algunos errores, así que el segundo modelo intentará reducirdichos errores. De tal forma, que de forma secuencial se combinen los algoritmos para mejorarla predicción final. "
   ]
  },
  {
   "cell_type": "markdown",
   "id": "b3980a56",
   "metadata": {},
   "source": [
    "### Gradient Boosting Classifier"
   ]
  },
  {
   "cell_type": "raw",
   "id": "dbaaa7ca",
   "metadata": {},
   "source": [
    "Un modelo Gradient Boosting utiliza el algoritmo de árboles de decisión para construir los estimadores base. Es decir, utiliza árboles de decisión de forma secuencial para producir predicciones precisas. Para determinar los parámetros que usará cada árbol de decisión se usa el algoritmo de descenso de gradiente que a través de derivadas tiene como objetivo minimizarla función de pérdida. "
   ]
  },
  {
   "cell_type": "raw",
   "id": "e33f110d",
   "metadata": {},
   "source": [
    "1) Estimación de parámetros para el algoritmo de boosting:"
   ]
  },
  {
   "cell_type": "code",
   "execution_count": 53,
   "id": "5aeb3305",
   "metadata": {},
   "outputs": [
    {
     "name": "stdout",
     "output_type": "stream",
     "text": [
      "GradientBoostingClassifier: GradientBoostingClassifier(criterion='mse', learning_rate=0.5,\n",
      "                           loss='exponential', max_depth=5, max_features=3,\n",
      "                           min_samples_leaf=4, min_samples_split=10,\n",
      "                           n_estimators=3)\n",
      "Parámetros:  {'criterion': 'mse', 'learning_rate': 0.5, 'loss': 'exponential', 'max_depth': 5, 'max_features': 3, 'min_samples_leaf': 4, 'min_samples_split': 10, 'n_estimators': 3}\n"
     ]
    }
   ],
   "source": [
    "boosting = GradientBoostingClassifier()\n",
    "parameters = {'loss' : ['deviance', 'exponential'], #--\n",
    "              'learning_rate' : [(0.001),(0.01),(0.1),(0.5),(1)],#--\n",
    "              'n_estimators' : [(3),(5),(15),(33),(51),(71),(97)],#--\n",
    "              'criterion' : ['friedman_mse', 'mse'], #--\n",
    "              'min_samples_split' : [(2),(5),(8),(10),(12)],#--\n",
    "              'min_samples_leaf' : [(1),(4),(7),(9),(11)],#--\n",
    "              'max_depth' : [(1),(3),(5),(7),(9)],#--\n",
    "              'max_features':[(1),(3),(5),(7),(9)],#--\n",
    "            }\n",
    "\n",
    "clf2 = GridSearchCV(boosting, parameters, n_jobs=-1, cv=kf, scoring='f1', refit=True) \n",
    "objectEntrenado = clf2.fit(data1, target)\n",
    "mejorModelo2 = clf2.best_estimator_\n",
    "\n",
    "\n",
    "print('GradientBoostingClassifier:',mejorModelo2)\n",
    "print('Parámetros: ', clf2.best_params_)"
   ]
  },
  {
   "cell_type": "raw",
   "id": "0f5df4ae",
   "metadata": {},
   "source": [
    "2) Para poder hacer la comparación de desempeño del modelo construido con la técnica de boosting y del modelo de árbol de decisión es necesario realizar la estimación de parámetros de este algoritmo por separado, así:"
   ]
  },
  {
   "cell_type": "code",
   "execution_count": 184,
   "id": "34f23816",
   "metadata": {},
   "outputs": [
    {
     "name": "stdout",
     "output_type": "stream",
     "text": [
      "Mejores parámetros de DecisionTreeClassifier :  {'criterion': 'entropy', 'max_depth': 7, 'max_features': 5, 'min_samples_leaf': 1, 'min_samples_split': 8, 'splitter': 'best'}\n",
      "#########################################################################################################\n",
      " \n"
     ]
    }
   ],
   "source": [
    "arbol = DecisionTreeClassifier()\n",
    "param = {'criterion': ['gini', 'entropy'],\n",
    "         'splitter' : ['best', 'random'],\n",
    "         'max_depth': [(1),(3),(5),(7),(9)],\n",
    "         'min_samples_split' : [(2),(5),(8),(10),(12)],\n",
    "         'min_samples_leaf' : [(1),(4),(7),(9),(11)],\n",
    "         'max_features' : [(1),(3),(5),(7),(9)],\n",
    "        }\n",
    "\n",
    "clf3 = GridSearchCV(arbol, param, n_jobs=-1, cv=kf, scoring='f1', refit=True)\n",
    "obEntrenado = clf3.fit(data1, target)\n",
    "modeloObtenido = clf3.best_estimator_\n",
    "\n",
    "print('Mejores parámetros de DecisionTreeClassifier : ', clf3.best_params_)\n",
    "print('#########################################################################################################')\n",
    "print(' ')"
   ]
  },
  {
   "cell_type": "raw",
   "id": "764c807c",
   "metadata": {},
   "source": [
    "3) Construcción del modelo"
   ]
  },
  {
   "cell_type": "code",
   "execution_count": 129,
   "id": "14ce2c54",
   "metadata": {},
   "outputs": [
    {
     "name": "stdout",
     "output_type": "stream",
     "text": [
      "GradientBoostingClassifier(criterion='mse', learning_rate=0.5,\n",
      "                           loss='exponential', max_depth=5, max_features=3,\n",
      "                           min_samples_leaf=4, min_samples_split=10,\n",
      "                           n_estimators=3)\n"
     ]
    }
   ],
   "source": [
    "mejorModelo2 = GradientBoostingClassifier(criterion='mse', learning_rate=0.5,\n",
    "                           loss='exponential', max_depth=5, max_features=3,\n",
    "                           min_samples_leaf=4, min_samples_split=10,\n",
    "                           n_estimators=3)\n",
    "\n",
    "print(mejorModelo2)\n"
   ]
  },
  {
   "cell_type": "raw",
   "id": "177d0723",
   "metadata": {},
   "source": [
    "4.1 Evaluaciones del modelo simple(árbol de decisión)"
   ]
  },
  {
   "cell_type": "code",
   "execution_count": 186,
   "id": "c34ae962",
   "metadata": {},
   "outputs": [
    {
     "name": "stdout",
     "output_type": "stream",
     "text": [
      "Métricas cross_validation:  [0.         0.         0.85714286]\n",
      "Media de las métricas de cross_validation:  0.2857142857142857\n",
      "Desviación estándar de las métricas de cross_validation:  0.40406101782088427\n"
     ]
    }
   ],
   "source": [
    "#PRIMERA EVALUACIÓN\n",
    "scoresss_1 = cross_val_score(modeloObtenido, data1, target, cv=kf, scoring='f1')\n",
    "print(\"Métricas cross_validation: \",scoresss_1)\n",
    "print(\"Media de las métricas de cross_validation: \",scoresss_1.mean())\n",
    "print(\"Desviación estándar de las métricas de cross_validation: \",scoresss_1.std())"
   ]
  },
  {
   "cell_type": "code",
   "execution_count": 187,
   "id": "8f56b004",
   "metadata": {},
   "outputs": [
    {
     "name": "stdout",
     "output_type": "stream",
     "text": [
      "Métricas cross_validation:  [0.4  0.   0.75]\n",
      "Media de las métricas de cross_validation:  0.3833333333333333\n",
      "Desviación estándar de las métricas de cross_validation:  0.30641293851417056\n"
     ]
    }
   ],
   "source": [
    "#SEGUNDA EVALUACIÓN\n",
    "scoresss_2 = cross_val_score(modeloObtenido, data1, target, cv=kf, scoring='f1')\n",
    "print(\"Métricas cross_validation: \",scoresss_2)\n",
    "print(\"Media de las métricas de cross_validation: \",scoresss_2.mean())\n",
    "print(\"Desviación estándar de las métricas de cross_validation: \",scoresss_2.std())"
   ]
  },
  {
   "cell_type": "code",
   "execution_count": 188,
   "id": "eeeb5cab",
   "metadata": {},
   "outputs": [
    {
     "name": "stdout",
     "output_type": "stream",
     "text": [
      "Métricas cross_validation:  [0.   0.   0.75]\n",
      "Media de las métricas de cross_validation:  0.24999999999999997\n",
      "Desviación estándar de las métricas de cross_validation:  0.35355339059327373\n"
     ]
    }
   ],
   "source": [
    "#TERCERA EVALUACIÓN\n",
    "scoresss_3 = cross_val_score(modeloObtenido, data1, target, cv=kf, scoring='f1')\n",
    "print(\"Métricas cross_validation: \",scoresss_3)\n",
    "print(\"Media de las métricas de cross_validation: \",scoresss_3.mean())\n",
    "print(\"Desviación estándar de las métricas de cross_validation: \",scoresss_3.std())"
   ]
  },
  {
   "cell_type": "code",
   "execution_count": 189,
   "id": "f445af5e",
   "metadata": {},
   "outputs": [
    {
     "data": {
      "text/plain": [
       "[Text(200.88000000000002, 181.2, 'X[5] <= 1.111\\nentropy = 0.946\\nsamples = 11\\nvalue = [7, 4]'),\n",
       " Text(133.92000000000002, 108.72, 'X[8] <= -0.606\\nentropy = 0.764\\nsamples = 9\\nvalue = [7, 2]'),\n",
       " Text(66.96000000000001, 36.23999999999998, 'entropy = 0.0\\nsamples = 5\\nvalue = [5, 0]'),\n",
       " Text(200.88000000000002, 36.23999999999998, 'entropy = 1.0\\nsamples = 4\\nvalue = [2, 2]'),\n",
       " Text(267.84000000000003, 108.72, 'entropy = 0.0\\nsamples = 2\\nvalue = [0, 2]')]"
      ]
     },
     "execution_count": 189,
     "metadata": {},
     "output_type": "execute_result"
    },
    {
     "data": {
      "image/png": "[encoded data removed]",
      "text/plain": [
       "<Figure size 432x288 with 1 Axes>"
      ]
     },
     "metadata": {
      "needs_background": "light"
     },
     "output_type": "display_data"
    }
   ],
   "source": [
    "from sklearn import tree\n",
    "\n",
    "#Una de las particiones de kf\n",
    "dataPequeña = data1.iloc[0:11]\n",
    "targetPequeña = target.iloc[0:11]\n",
    "\n",
    "modeloObtenido.fit(dataPequeña, targetPequeña)\n",
    "tree.plot_tree(modeloObtenido)"
   ]
  },
  {
   "cell_type": "code",
   "execution_count": 190,
   "id": "dcc40777",
   "metadata": {},
   "outputs": [
    {
     "data": {
      "text/plain": [
       "[Text(167.4, 163.07999999999998, 'X[8] <= -0.805\\nentropy = 0.946\\nsamples = 11\\nvalue = [7, 4]'),\n",
       " Text(83.7, 54.360000000000014, 'entropy = 0.0\\nsamples = 5\\nvalue = [5, 0]'),\n",
       " Text(251.10000000000002, 54.360000000000014, 'entropy = 0.918\\nsamples = 6\\nvalue = [2, 4]')]"
      ]
     },
     "execution_count": 190,
     "metadata": {},
     "output_type": "execute_result"
    },
    {
     "data": {
      "image/png": "[encoded data removed]",
      "text/plain": [
       "<Figure size 432x288 with 1 Axes>"
      ]
     },
     "metadata": {
      "needs_background": "light"
     },
     "output_type": "display_data"
    }
   ],
   "source": [
    "from sklearn import tree\n",
    "\n",
    "#Una de las particiones de kf\n",
    "dataPequeña = data1.iloc[0:11]\n",
    "targetPequeña = target.iloc[0:11]\n",
    "\n",
    "modeloObtenido.fit(dataPequeña, targetPequeña)\n",
    "tree.plot_tree(modeloObtenido)"
   ]
  },
  {
   "cell_type": "raw",
   "id": "61a85562",
   "metadata": {},
   "source": [
    "4.2 Evaluaciones del modelo de ensamble(Gradient Boosting Classifier)"
   ]
  },
  {
   "cell_type": "code",
   "execution_count": 140,
   "id": "13f7e4b3",
   "metadata": {},
   "outputs": [
    {
     "name": "stdout",
     "output_type": "stream",
     "text": [
      "Métricas cross_validation:  [0.5        0.66666667 0.85714286]\n",
      "Media de las métricas de cross_validation:  0.6746031746031745\n",
      "Desviación estándar de las métricas de cross_validation:  0.14591092310198597\n"
     ]
    }
   ],
   "source": [
    "#PRIMERA EVALUACIÓN\n",
    "scores1 = cross_val_score(mejorModelo2, data1, target, cv=kf, scoring='f1')\n",
    "\n",
    "print(\"Métricas cross_validation: \",scores1)\n",
    "print(\"Media de las métricas de cross_validation: \",scores1.mean())\n",
    "print(\"Desviación estándar de las métricas de cross_validation: \",scores1.std())"
   ]
  },
  {
   "cell_type": "code",
   "execution_count": 197,
   "id": "ff258ae7",
   "metadata": {},
   "outputs": [
    {
     "name": "stdout",
     "output_type": "stream",
     "text": [
      "Métricas cross_validation:  [0.         0.5        0.85714286]\n",
      "Media de las métricas de cross_validation:  0.4523809523809524\n",
      "Desviación estándar de las métricas de cross_validation:  0.35154340619603336\n"
     ]
    }
   ],
   "source": [
    "#SEGUNDA EVALUACIÓN\n",
    "scores2 = cross_val_score(mejorModelo2, data1, target, cv=kf, scoring='f1')\n",
    "\n",
    "print(\"Métricas cross_validation: \",scores2)\n",
    "print(\"Media de las métricas de cross_validation: \",scores2.mean())\n",
    "print(\"Desviación estándar de las métricas de cross_validation: \",scores2.std())"
   ]
  },
  {
   "cell_type": "code",
   "execution_count": 206,
   "id": "cc5a74d9",
   "metadata": {},
   "outputs": [
    {
     "name": "stdout",
     "output_type": "stream",
     "text": [
      "Métricas cross_validation:  [0.         0.66666667 0.5       ]\n",
      "Media de las métricas de cross_validation:  0.38888888888888884\n",
      "Desviación estándar de las métricas de cross_validation:  0.2832788618662658\n"
     ]
    }
   ],
   "source": [
    "#TERCERA EVALUACIÓN\n",
    "scores3 = cross_val_score(mejorModelo2, data1, target, cv=kf, scoring='f1')\n",
    "\n",
    "print(\"Métricas cross_validation: \",scores3)\n",
    "print(\"Media de las métricas de cross_validation: \",scores3.mean())\n",
    "print(\"Desviación estándar de las métricas de cross_validation: \",scores3.std())"
   ]
  },
  {
   "cell_type": "markdown",
   "id": "2c0f8b68",
   "metadata": {},
   "source": [
    "## Gráfica del f1 score obtenido durante las tres iteraciones de la evaluación del modelo simple (árboles de decisión)  y el modelo de ensamble (Gradient Boosting Classifier) que presentaron la media más alta"
   ]
  },
  {
   "cell_type": "code",
   "execution_count": 275,
   "id": "df0d5fb6",
   "metadata": {},
   "outputs": [
    {
     "data": {
      "text/html": [
       "<div>\n",
       "<style scoped>\n",
       "    .dataframe tbody tr th:only-of-type {\n",
       "        vertical-align: middle;\n",
       "    }\n",
       "\n",
       "    .dataframe tbody tr th {\n",
       "        vertical-align: top;\n",
       "    }\n",
       "\n",
       "    .dataframe thead th {\n",
       "        text-align: right;\n",
       "    }\n",
       "</style>\n",
       "<table border=\"1\" class=\"dataframe\">\n",
       "  <thead>\n",
       "    <tr style=\"text-align: right;\">\n",
       "      <th></th>\n",
       "      <th>PARTICIONES</th>\n",
       "      <th>VALORES_METRICAS</th>\n",
       "      <th>ESTIMADORES</th>\n",
       "    </tr>\n",
       "  </thead>\n",
       "  <tbody>\n",
       "    <tr>\n",
       "      <th>0</th>\n",
       "      <td>1</td>\n",
       "      <td>0.40</td>\n",
       "      <td>1</td>\n",
       "    </tr>\n",
       "    <tr>\n",
       "      <th>1</th>\n",
       "      <td>2</td>\n",
       "      <td>0.00</td>\n",
       "      <td>1</td>\n",
       "    </tr>\n",
       "    <tr>\n",
       "      <th>2</th>\n",
       "      <td>3</td>\n",
       "      <td>0.75</td>\n",
       "      <td>1</td>\n",
       "    </tr>\n",
       "    <tr>\n",
       "      <th>3</th>\n",
       "      <td>1</td>\n",
       "      <td>0.50</td>\n",
       "      <td>3</td>\n",
       "    </tr>\n",
       "    <tr>\n",
       "      <th>4</th>\n",
       "      <td>2</td>\n",
       "      <td>0.67</td>\n",
       "      <td>3</td>\n",
       "    </tr>\n",
       "    <tr>\n",
       "      <th>5</th>\n",
       "      <td>3</td>\n",
       "      <td>0.86</td>\n",
       "      <td>3</td>\n",
       "    </tr>\n",
       "  </tbody>\n",
       "</table>\n",
       "</div>"
      ],
      "text/plain": [
       "   PARTICIONES  VALORES_METRICAS  ESTIMADORES\n",
       "0            1              0.40            1\n",
       "1            2              0.00            1\n",
       "2            3              0.75            1\n",
       "3            1              0.50            3\n",
       "4            2              0.67            3\n",
       "5            3              0.86            3"
      ]
     },
     "execution_count": 275,
     "metadata": {},
     "output_type": "execute_result"
    }
   ],
   "source": [
    "dataMetricas1 = {'PARTICIONES' : [1,2,3,1,2,3], 'VALORES_METRICAS' : [0.4 , 0.0 , 0.75, 0.5, 0.67 , 0.86], 'ESTIMADORES' : [1,1,1,3,3,3]}\n",
    "dataMetricas1 = pd.DataFrame(dataMetricas1)\n",
    "dataMetricas1"
   ]
  },
  {
   "cell_type": "code",
   "execution_count": 276,
   "id": "ad814038",
   "metadata": {},
   "outputs": [
    {
     "data": {
      "text/html": [
       "<div>\n",
       "<style scoped>\n",
       "    .dataframe tbody tr th:only-of-type {\n",
       "        vertical-align: middle;\n",
       "    }\n",
       "\n",
       "    .dataframe tbody tr th {\n",
       "        vertical-align: top;\n",
       "    }\n",
       "\n",
       "    .dataframe thead th {\n",
       "        text-align: right;\n",
       "    }\n",
       "</style>\n",
       "<table border=\"1\" class=\"dataframe\">\n",
       "  <thead>\n",
       "    <tr style=\"text-align: right;\">\n",
       "      <th></th>\n",
       "      <th>ESTIMADORES</th>\n",
       "      <th>PARTICIONES</th>\n",
       "      <th>VALORES_METRICAS</th>\n",
       "      <th>0</th>\n",
       "    </tr>\n",
       "  </thead>\n",
       "  <tbody>\n",
       "    <tr>\n",
       "      <th>0</th>\n",
       "      <td>1</td>\n",
       "      <td>1</td>\n",
       "      <td>0.40</td>\n",
       "      <td>1</td>\n",
       "    </tr>\n",
       "    <tr>\n",
       "      <th>1</th>\n",
       "      <td>1</td>\n",
       "      <td>2</td>\n",
       "      <td>0.00</td>\n",
       "      <td>1</td>\n",
       "    </tr>\n",
       "    <tr>\n",
       "      <th>2</th>\n",
       "      <td>1</td>\n",
       "      <td>3</td>\n",
       "      <td>0.75</td>\n",
       "      <td>1</td>\n",
       "    </tr>\n",
       "    <tr>\n",
       "      <th>3</th>\n",
       "      <td>3</td>\n",
       "      <td>1</td>\n",
       "      <td>0.50</td>\n",
       "      <td>1</td>\n",
       "    </tr>\n",
       "    <tr>\n",
       "      <th>4</th>\n",
       "      <td>3</td>\n",
       "      <td>2</td>\n",
       "      <td>0.67</td>\n",
       "      <td>1</td>\n",
       "    </tr>\n",
       "    <tr>\n",
       "      <th>5</th>\n",
       "      <td>3</td>\n",
       "      <td>3</td>\n",
       "      <td>0.86</td>\n",
       "      <td>1</td>\n",
       "    </tr>\n",
       "  </tbody>\n",
       "</table>\n",
       "</div>"
      ],
      "text/plain": [
       "   ESTIMADORES  PARTICIONES  VALORES_METRICAS  0\n",
       "0            1            1              0.40  1\n",
       "1            1            2              0.00  1\n",
       "2            1            3              0.75  1\n",
       "3            3            1              0.50  1\n",
       "4            3            2              0.67  1\n",
       "5            3            3              0.86  1"
      ]
     },
     "execution_count": 276,
     "metadata": {},
     "output_type": "execute_result"
    }
   ],
   "source": [
    "valores1 = dataMetricas1.groupby(['ESTIMADORES', 'PARTICIONES','VALORES_METRICAS']).size()\n",
    "valores1 = valores1.reset_index()\n",
    "valores1"
   ]
  },
  {
   "cell_type": "code",
   "execution_count": 277,
   "id": "818622da",
   "metadata": {},
   "outputs": [
    {
     "data": {
      "text/html": [
       "<div>\n",
       "<style scoped>\n",
       "    .dataframe tbody tr th:only-of-type {\n",
       "        vertical-align: middle;\n",
       "    }\n",
       "\n",
       "    .dataframe tbody tr th {\n",
       "        vertical-align: top;\n",
       "    }\n",
       "\n",
       "    .dataframe thead th {\n",
       "        text-align: right;\n",
       "    }\n",
       "</style>\n",
       "<table border=\"1\" class=\"dataframe\">\n",
       "  <thead>\n",
       "    <tr style=\"text-align: right;\">\n",
       "      <th>ESTIMADORES</th>\n",
       "      <th>1</th>\n",
       "      <th>3</th>\n",
       "    </tr>\n",
       "    <tr>\n",
       "      <th>PARTICIONES</th>\n",
       "      <th></th>\n",
       "      <th></th>\n",
       "    </tr>\n",
       "  </thead>\n",
       "  <tbody>\n",
       "    <tr>\n",
       "      <th>1</th>\n",
       "      <td>0.40</td>\n",
       "      <td>0.50</td>\n",
       "    </tr>\n",
       "    <tr>\n",
       "      <th>2</th>\n",
       "      <td>0.00</td>\n",
       "      <td>0.67</td>\n",
       "    </tr>\n",
       "    <tr>\n",
       "      <th>3</th>\n",
       "      <td>0.75</td>\n",
       "      <td>0.86</td>\n",
       "    </tr>\n",
       "  </tbody>\n",
       "</table>\n",
       "</div>"
      ],
      "text/plain": [
       "ESTIMADORES     1     3\n",
       "PARTICIONES            \n",
       "1            0.40  0.50\n",
       "2            0.00  0.67\n",
       "3            0.75  0.86"
      ]
     },
     "execution_count": 277,
     "metadata": {},
     "output_type": "execute_result"
    }
   ],
   "source": [
    "valores1 = pd.pivot_table(valores1, columns = 'ESTIMADORES' , index = 'PARTICIONES', values = 'VALORES_METRICAS')\n",
    "valores1"
   ]
  },
  {
   "cell_type": "code",
   "execution_count": 278,
   "id": "450d9703",
   "metadata": {},
   "outputs": [
    {
     "data": {
      "text/plain": [
       "Text(0.5, 0, 'Iteraciones')"
      ]
     },
     "execution_count": 278,
     "metadata": {},
     "output_type": "execute_result"
    },
    {
     "data": {
      "image/png": "[encoded data removed]",
      "text/plain": [
       "<Figure size 576x432 with 1 Axes>"
      ]
     },
     "metadata": {
      "needs_background": "light"
     },
     "output_type": "display_data"
    }
   ],
   "source": [
    "valores1 = valores1.plot(kind='bar', figsize=(8,6), title = 'MODELO BOOSTING-GRADIENT COMPUESTO POR ÁRBOLES DE DECISIÓN VS MODELO DE ÁRBOL DE DECISIÓN');\n",
    "valores1.set_ylabel('Valor de F1 score')\n",
    "valores1.set_xlabel('Iteraciones')"
   ]
  },
  {
   "cell_type": "markdown",
   "id": "fc978ea3",
   "metadata": {},
   "source": [
    "### AdaBoost Classifier"
   ]
  },
  {
   "cell_type": "raw",
   "id": "8ebca4ea",
   "metadata": {},
   "source": [
    "Un modelo de AdaBoost Classifier funciona eligiendo un algoritmo base, generalmente se usan árboles de decisión y mejorando las predicciones al aplicar el estimador base n veces al conjunto de entrenamiento, de tal forma que en cada iteración tome en cuenta aquellos casos que dicho algoritmo base ha clasificado incorrectamente, aumentando los pesos de los ejemplosmal clasificados. Para este caso se eligen los árboles de decisión como estimador base."
   ]
  },
  {
   "cell_type": "raw",
   "id": "5fafb2c5",
   "metadata": {},
   "source": [
    "1) Estimación de parámetros para el algoritmo de árboles de decisión:"
   ]
  },
  {
   "cell_type": "code",
   "execution_count": 235,
   "id": "91cda541",
   "metadata": {},
   "outputs": [
    {
     "name": "stdout",
     "output_type": "stream",
     "text": [
      "Mejores parámetros de DecisionTreeClassifier :  DecisionTreeClassifier(criterion='entropy', max_depth=7, max_features=5,\n",
      "                       min_samples_split=8)\n",
      "#########################################################################################################\n",
      " \n"
     ]
    }
   ],
   "source": [
    "#Las evaluaciones de este modelo simple ya se hicieron anteriormente en la técnica de Gradient Boosting Classifier \n",
    "#usando la misma cantidad de datos, por lo tanto, se usa el modelo antes construido.\n",
    "\n",
    "arbol = DecisionTreeClassifier(criterion = 'entropy', max_depth = 7, max_features = 5, min_samples_leaf = 1, min_samples_split = 8, splitter = 'best')\n",
    "\n",
    "\n",
    "print('Mejores parámetros de DecisionTreeClassifier : ', arbol)\n",
    "print('#########################################################################################################')\n",
    "print(' ')"
   ]
  },
  {
   "cell_type": "raw",
   "id": "ef613f5b",
   "metadata": {},
   "source": [
    "2) Estimación de parámetros para el algoritmo de AdaBoost Classifie:"
   ]
  },
  {
   "cell_type": "code",
   "execution_count": 252,
   "id": "bb7de875",
   "metadata": {},
   "outputs": [
    {
     "name": "stdout",
     "output_type": "stream",
     "text": [
      "Mejores parámetros de AdaBoostClassifier :  {'learning_rate': 0.01, 'n_estimators': 5}\n",
      "AdaBoostClassifier : AdaBoostClassifier(base_estimator=DecisionTreeClassifier(criterion='entropy',\n",
      "                                                         max_depth=7,\n",
      "                                                         max_features=5,\n",
      "                                                         min_samples_split=8),\n",
      "                   learning_rate=0.01, n_estimators=5)\n",
      "#########################################################################################################\n",
      " \n"
     ]
    }
   ],
   "source": [
    "Ada =  AdaBoostClassifier(base_estimator=arbol)\n",
    "paramet = {'n_estimators' : [i for i in range(3,101) if i%2 != 0],\n",
    "           'learning_rate' : [(0.001),(0.01),(0.1),(0.5),(1)],\n",
    "            }\n",
    "clf4 = GridSearchCV(Ada, paramet, n_jobs=-1, cv=kf, scoring='f1', refit=True)\n",
    "ObjeEntrenado = clf4.fit(data1, target)\n",
    "mejorModelo3 = clf4.best_estimator_\n",
    "\n",
    "print('Mejores parámetros de AdaBoostClassifier : ', clf4.best_params_)\n",
    "print('AdaBoostClassifier :', mejorModelo3 )\n",
    "print('#########################################################################################################')\n",
    "print(' ')"
   ]
  },
  {
   "cell_type": "raw",
   "id": "9007d7f7",
   "metadata": {},
   "source": [
    "3) Construcción del modelo:"
   ]
  },
  {
   "cell_type": "code",
   "execution_count": 123,
   "id": "3007acf0",
   "metadata": {},
   "outputs": [],
   "source": [
    "mejorModelo3 = AdaBoostClassifier(base_estimator=DecisionTreeClassifier(criterion='entropy',\n",
    "                                                         max_depth=7,\n",
    "                                                         max_features=5,\n",
    "                                                         min_samples_split=8),\n",
    "                   learning_rate=0.01, n_estimators=5)"
   ]
  },
  {
   "cell_type": "raw",
   "id": "4858546f",
   "metadata": {},
   "source": [
    " 4.1 ) Evaluaciones del modelo simple(árbol de decisión) => Ya se realizaron en la anterior técnica por lo tanto no se repiten."
   ]
  },
  {
   "cell_type": "raw",
   "id": "590834c8",
   "metadata": {},
   "source": [
    "4.2) Evaluaciones del modelo de ensamble(AdaBoost Classifier)"
   ]
  },
  {
   "cell_type": "code",
   "execution_count": 260,
   "id": "bd844965",
   "metadata": {},
   "outputs": [
    {
     "name": "stdout",
     "output_type": "stream",
     "text": [
      "Métricas cross_validation:  [0.         0.         0.85714286]\n",
      "Media de las métricas de cross_validation:  0.2857142857142857\n",
      "Desviación estándar de las métricas de cross_validation:  0.40406101782088427\n"
     ]
    }
   ],
   "source": [
    "scores11 = cross_val_score(mejorModelo3, data1, target, cv=kf, scoring='f1')#Solo se puede escoger una métrica\n",
    "\n",
    "print(\"Métricas cross_validation: \",scores11)\n",
    "print(\"Media de las métricas de cross_validation: \",scores11.mean())\n",
    "print(\"Desviación estándar de las métricas de cross_validation: \",scores11.std())"
   ]
  },
  {
   "cell_type": "code",
   "execution_count": 254,
   "id": "a545a067",
   "metadata": {},
   "outputs": [
    {
     "name": "stdout",
     "output_type": "stream",
     "text": [
      "Métricas cross_validation:  [0.         0.66666667 0.75      ]\n",
      "Media de las métricas de cross_validation:  0.47222222222222215\n",
      "Desviación estándar de las métricas de cross_validation:  0.3356401659331825\n"
     ]
    }
   ],
   "source": [
    "scores22 = cross_val_score(mejorModelo3, data1, target, cv=kf, scoring='f1')#Solo se puede escoger una métrica\n",
    "\n",
    "print(\"Métricas cross_validation: \",scores22)\n",
    "print(\"Media de las métricas de cross_validation: \",scores22.mean())\n",
    "print(\"Desviación estándar de las métricas de cross_validation: \",scores22.std())"
   ]
  },
  {
   "cell_type": "code",
   "execution_count": 273,
   "id": "da0dd212",
   "metadata": {},
   "outputs": [
    {
     "name": "stdout",
     "output_type": "stream",
     "text": [
      "Métricas cross_validation:  [0.   0.   0.75]\n",
      "Media de las métricas de cross_validation:  0.24999999999999997\n",
      "Desviación estándar de las métricas de cross_validation:  0.35355339059327373\n"
     ]
    }
   ],
   "source": [
    "scores33 = cross_val_score(mejorModelo3, data1, target, cv=kf, scoring='f1')#Solo se puede escoger una métrica\n",
    "\n",
    "print(\"Métricas cross_validation: \",scores33)\n",
    "print(\"Media de las métricas de cross_validation: \",scores33.mean())\n",
    "print(\"Desviación estándar de las métricas de cross_validation: \",scores33.std())"
   ]
  },
  {
   "cell_type": "markdown",
   "id": "d59bac3c",
   "metadata": {},
   "source": [
    "## Gráfica del f1 score obtenido durante las tres iteraciones de la evaluación del modelo simple (árboles de decisión)  y el modelo de ensamble (AdaBoostClassifier) que presentaron la media más alta"
   ]
  },
  {
   "cell_type": "code",
   "execution_count": 279,
   "id": "8516c026",
   "metadata": {},
   "outputs": [
    {
     "data": {
      "text/html": [
       "<div>\n",
       "<style scoped>\n",
       "    .dataframe tbody tr th:only-of-type {\n",
       "        vertical-align: middle;\n",
       "    }\n",
       "\n",
       "    .dataframe tbody tr th {\n",
       "        vertical-align: top;\n",
       "    }\n",
       "\n",
       "    .dataframe thead th {\n",
       "        text-align: right;\n",
       "    }\n",
       "</style>\n",
       "<table border=\"1\" class=\"dataframe\">\n",
       "  <thead>\n",
       "    <tr style=\"text-align: right;\">\n",
       "      <th></th>\n",
       "      <th>PARTICIONES</th>\n",
       "      <th>VALORES_METRICAS</th>\n",
       "      <th>ESTIMADORES</th>\n",
       "    </tr>\n",
       "  </thead>\n",
       "  <tbody>\n",
       "    <tr>\n",
       "      <th>0</th>\n",
       "      <td>1</td>\n",
       "      <td>0.40</td>\n",
       "      <td>1</td>\n",
       "    </tr>\n",
       "    <tr>\n",
       "      <th>1</th>\n",
       "      <td>2</td>\n",
       "      <td>0.00</td>\n",
       "      <td>1</td>\n",
       "    </tr>\n",
       "    <tr>\n",
       "      <th>2</th>\n",
       "      <td>3</td>\n",
       "      <td>0.75</td>\n",
       "      <td>1</td>\n",
       "    </tr>\n",
       "    <tr>\n",
       "      <th>3</th>\n",
       "      <td>1</td>\n",
       "      <td>0.00</td>\n",
       "      <td>5</td>\n",
       "    </tr>\n",
       "    <tr>\n",
       "      <th>4</th>\n",
       "      <td>2</td>\n",
       "      <td>0.67</td>\n",
       "      <td>5</td>\n",
       "    </tr>\n",
       "    <tr>\n",
       "      <th>5</th>\n",
       "      <td>3</td>\n",
       "      <td>0.75</td>\n",
       "      <td>5</td>\n",
       "    </tr>\n",
       "  </tbody>\n",
       "</table>\n",
       "</div>"
      ],
      "text/plain": [
       "   PARTICIONES  VALORES_METRICAS  ESTIMADORES\n",
       "0            1              0.40            1\n",
       "1            2              0.00            1\n",
       "2            3              0.75            1\n",
       "3            1              0.00            5\n",
       "4            2              0.67            5\n",
       "5            3              0.75            5"
      ]
     },
     "execution_count": 279,
     "metadata": {},
     "output_type": "execute_result"
    }
   ],
   "source": [
    "dataMetricas2 = {'PARTICIONES' : [1,2,3,1,2,3], 'VALORES_METRICAS' : [0.4 , 0.0 , 0.75, 0.0, 0.67, 0.75], 'ESTIMADORES' : [1,1,1,5,5,5]}\n",
    "dataMetricas2 = pd.DataFrame(dataMetricas2)\n",
    "dataMetricas2"
   ]
  },
  {
   "cell_type": "code",
   "execution_count": 280,
   "id": "9cb3fcb3",
   "metadata": {},
   "outputs": [
    {
     "data": {
      "text/html": [
       "<div>\n",
       "<style scoped>\n",
       "    .dataframe tbody tr th:only-of-type {\n",
       "        vertical-align: middle;\n",
       "    }\n",
       "\n",
       "    .dataframe tbody tr th {\n",
       "        vertical-align: top;\n",
       "    }\n",
       "\n",
       "    .dataframe thead th {\n",
       "        text-align: right;\n",
       "    }\n",
       "</style>\n",
       "<table border=\"1\" class=\"dataframe\">\n",
       "  <thead>\n",
       "    <tr style=\"text-align: right;\">\n",
       "      <th></th>\n",
       "      <th>ESTIMADORES</th>\n",
       "      <th>PARTICIONES</th>\n",
       "      <th>VALORES_METRICAS</th>\n",
       "      <th>0</th>\n",
       "    </tr>\n",
       "  </thead>\n",
       "  <tbody>\n",
       "    <tr>\n",
       "      <th>0</th>\n",
       "      <td>1</td>\n",
       "      <td>1</td>\n",
       "      <td>0.40</td>\n",
       "      <td>1</td>\n",
       "    </tr>\n",
       "    <tr>\n",
       "      <th>1</th>\n",
       "      <td>1</td>\n",
       "      <td>2</td>\n",
       "      <td>0.00</td>\n",
       "      <td>1</td>\n",
       "    </tr>\n",
       "    <tr>\n",
       "      <th>2</th>\n",
       "      <td>1</td>\n",
       "      <td>3</td>\n",
       "      <td>0.75</td>\n",
       "      <td>1</td>\n",
       "    </tr>\n",
       "    <tr>\n",
       "      <th>3</th>\n",
       "      <td>5</td>\n",
       "      <td>1</td>\n",
       "      <td>0.00</td>\n",
       "      <td>1</td>\n",
       "    </tr>\n",
       "    <tr>\n",
       "      <th>4</th>\n",
       "      <td>5</td>\n",
       "      <td>2</td>\n",
       "      <td>0.67</td>\n",
       "      <td>1</td>\n",
       "    </tr>\n",
       "    <tr>\n",
       "      <th>5</th>\n",
       "      <td>5</td>\n",
       "      <td>3</td>\n",
       "      <td>0.75</td>\n",
       "      <td>1</td>\n",
       "    </tr>\n",
       "  </tbody>\n",
       "</table>\n",
       "</div>"
      ],
      "text/plain": [
       "   ESTIMADORES  PARTICIONES  VALORES_METRICAS  0\n",
       "0            1            1              0.40  1\n",
       "1            1            2              0.00  1\n",
       "2            1            3              0.75  1\n",
       "3            5            1              0.00  1\n",
       "4            5            2              0.67  1\n",
       "5            5            3              0.75  1"
      ]
     },
     "execution_count": 280,
     "metadata": {},
     "output_type": "execute_result"
    }
   ],
   "source": [
    "valores2 = dataMetricas2.groupby(['ESTIMADORES', 'PARTICIONES','VALORES_METRICAS']).size()\n",
    "valores2 = valores2.reset_index()\n",
    "valores2"
   ]
  },
  {
   "cell_type": "code",
   "execution_count": 281,
   "id": "1f32b0fa",
   "metadata": {},
   "outputs": [
    {
     "data": {
      "text/html": [
       "<div>\n",
       "<style scoped>\n",
       "    .dataframe tbody tr th:only-of-type {\n",
       "        vertical-align: middle;\n",
       "    }\n",
       "\n",
       "    .dataframe tbody tr th {\n",
       "        vertical-align: top;\n",
       "    }\n",
       "\n",
       "    .dataframe thead th {\n",
       "        text-align: right;\n",
       "    }\n",
       "</style>\n",
       "<table border=\"1\" class=\"dataframe\">\n",
       "  <thead>\n",
       "    <tr style=\"text-align: right;\">\n",
       "      <th>ESTIMADORES</th>\n",
       "      <th>1</th>\n",
       "      <th>5</th>\n",
       "    </tr>\n",
       "    <tr>\n",
       "      <th>PARTICIONES</th>\n",
       "      <th></th>\n",
       "      <th></th>\n",
       "    </tr>\n",
       "  </thead>\n",
       "  <tbody>\n",
       "    <tr>\n",
       "      <th>1</th>\n",
       "      <td>0.40</td>\n",
       "      <td>0.00</td>\n",
       "    </tr>\n",
       "    <tr>\n",
       "      <th>2</th>\n",
       "      <td>0.00</td>\n",
       "      <td>0.67</td>\n",
       "    </tr>\n",
       "    <tr>\n",
       "      <th>3</th>\n",
       "      <td>0.75</td>\n",
       "      <td>0.75</td>\n",
       "    </tr>\n",
       "  </tbody>\n",
       "</table>\n",
       "</div>"
      ],
      "text/plain": [
       "ESTIMADORES     1     5\n",
       "PARTICIONES            \n",
       "1            0.40  0.00\n",
       "2            0.00  0.67\n",
       "3            0.75  0.75"
      ]
     },
     "execution_count": 281,
     "metadata": {},
     "output_type": "execute_result"
    }
   ],
   "source": [
    "valores2 = pd.pivot_table(valores2, columns = 'ESTIMADORES' , index = 'PARTICIONES', values = 'VALORES_METRICAS')\n",
    "valores2"
   ]
  },
  {
   "cell_type": "code",
   "execution_count": 282,
   "id": "cb03d88c",
   "metadata": {},
   "outputs": [
    {
     "data": {
      "text/plain": [
       "Text(0.5, 0, 'Iteraciones')"
      ]
     },
     "execution_count": 282,
     "metadata": {},
     "output_type": "execute_result"
    },
    {
     "data": {
      "image/png": "[encoded data removed]",
      "text/plain": [
       "<Figure size 576x432 with 1 Axes>"
      ]
     },
     "metadata": {
      "needs_background": "light"
     },
     "output_type": "display_data"
    }
   ],
   "source": [
    "valores2 = valores2.plot(kind='bar', figsize=(8,6), title = 'MODELO BOOSTING-ADABOOST COMPUESTO POR ÁRBOLES DE DECISIÓN VS MODELO DE ÁRBOL DE DECISIÓN');\n",
    "valores2.set_ylabel('Valor de F1 score')\n",
    "valores2.set_xlabel('Iteraciones')"
   ]
  },
  {
   "cell_type": "markdown",
   "id": "16e65530",
   "metadata": {},
   "source": [
    "# TÉCNICA STACKING"
   ]
  },
  {
   "cell_type": "raw",
   "id": "d477d10f",
   "metadata": {},
   "source": [
    "La idea de esta técnica es apilar modelos, cuando se apilan modelos, lo que en realidad se está haciendo es usar la salida de varios modelos como la entrada de otros modelos.\n",
    " \n",
    "En este caso, se crea un modelo de stacking que usa dos niveles, es decir, usa un primer nivel que corresponde a varios algoritmos entrenados sobre el conjunto de datos de entrenamiento, y termina con un segundo nivel, el cual usa un modelo final que entrena con los datos originales de entrenamiento y además como características adicionales usa las predicciones obtenidas por los modelos deprimer nivel. \n",
    "\n",
    "Los modelos construidos para el primer nivel son: Máquinas de vectores de soporte, K vecinos más cercanos y árbol de decisión. El modelo usado para el segundo nivel es: Regresión logística."
   ]
  },
  {
   "cell_type": "raw",
   "id": "bac2e4b9",
   "metadata": {},
   "source": [
    "1) Estimación de parámetros para los algoritmos de primer nivel:"
   ]
  },
  {
   "cell_type": "code",
   "execution_count": 52,
   "id": "b44636cf",
   "metadata": {},
   "outputs": [
    {
     "name": "stdout",
     "output_type": "stream",
     "text": [
      "Mejores parámetros de SVC:  {'C': 1.0, 'degree': 2, 'gamma': 0.0001, 'kernel': 'linear'}\n"
     ]
    }
   ],
   "source": [
    "#1)Máquinas de vectores de soporte\n",
    "\n",
    "mvs = SVC()\n",
    "atributos = {'C': [(0.0001),(0.001),(0.01),(0.02),(0.1),(0.3),(1.0),(10),(100)],\n",
    "         'kernel' : ['linear', 'poly','rbf', 'sigmoid'],\n",
    "         'gamma': [(0.0001),(0.001),(0.01),(0.02),(0.1),(0.3),(1.0),(10),(100)],\n",
    "         'degree' : [(2),(3),(4),(5)],\n",
    "          }\n",
    "clf5 = GridSearchCV(mvs, atributos, n_jobs=-1, cv=kf, refit=True)\n",
    "objectT = clf5.fit(data1, target)\n",
    "bestModelo = clf5.best_estimator_\n",
    "\n",
    "print('Mejores parámetros de SVC: ',  clf5.best_params_)"
   ]
  },
  {
   "cell_type": "code",
   "execution_count": 56,
   "id": "e9867210",
   "metadata": {},
   "outputs": [
    {
     "name": "stdout",
     "output_type": "stream",
     "text": [
      "Parámetros seleccionados para knn_class_Stack: KNeighborsClassifier(algorithm='ball_tree', leaf_size=2, n_neighbors=3, p=9,\n",
      "                     weights='distance')\n",
      "Parámetros:  {'algorithm': 'ball_tree', 'leaf_size': 2, 'n_neighbors': 3, 'p': 9, 'weights': 'distance'}\n",
      "##########################################################################################################\n",
      "\n"
     ]
    }
   ],
   "source": [
    "#2) K vecinos más cercanos\n",
    "\n",
    "#Se hace una selección nuevamente del modelo de k vecinos más cercanos, y esta vez se vuelve a estimar los valores de los parámetros \n",
    "# dado que la técnica de stacking divide internamente los datos de entrenamiento para entrenar cada estimador base a través de validación cruzada, es decir que \n",
    "# esta estrategia usa una cantidad menor para el entrenamiento de dichos estimadores base.\n",
    "\n",
    "knn_class_Stack = KNeighborsClassifier()\n",
    "parameter_space11 = {\n",
    "    'n_neighbors':[(3),(5)],#se desea un numero impar por la votación\n",
    "    'weights': ['distance','uniform'], #funcion de peso\n",
    "    'algorithm': ['ball_tree', 'kd_tree', 'brute'],#estructura utilizada para calcular los vecinos mas cercanos\n",
    "    'leaf_size': [(2),(3),(4),(5),(6)], #cantidad de hojas del algortimo seleccionado(ball tree o kd tree)\n",
    "    'p': [i for i in range(1,15)], # 2 es la distancia euclidiana , 1 distancia manhattan, arbitrario a p para cualquier otro\n",
    "}\n",
    "\n",
    "clfUlt = GridSearchCV(knn_class_Stack, parameter_space11, n_jobs=-1, cv=kf, scoring='f1',refit=True) \n",
    "objetoEntrenadoKnn = clfUlt.fit(data1, target)\n",
    "best_knn_Stack = objetoEntrenadoKnn.best_estimator_\n",
    "\n",
    "print('Parámetros seleccionados para knn_class_Stack:',best_knn_Stack)\n",
    "print('Parámetros: ', clfUlt.best_params_)\n",
    "print('##########################################################################################################')\n",
    "print('') "
   ]
  },
  {
   "cell_type": "code",
   "execution_count": 63,
   "id": "c2073e1a",
   "metadata": {},
   "outputs": [
    {
     "name": "stdout",
     "output_type": "stream",
     "text": [
      "Parámetros seleccionados para arbol_Stack: DecisionTreeClassifier(max_depth=9, max_features=5, min_samples_split=6)\n",
      "Parámetros:  {'criterion': 'gini', 'max_depth': 9, 'max_features': 5, 'min_samples_leaf': 1, 'min_samples_split': 6, 'splitter': 'best'}\n",
      "##########################################################################################################\n",
      "\n"
     ]
    }
   ],
   "source": [
    "#3)árbol de decisión\n",
    "\n",
    "#Se hace una selección nuevamente del modelo de árboles de decisión, y esta vez se vuelve a estimar los valores de los parámetros \n",
    "# dado que la técnica de stacking divide internamente los datos de entrenamiento para entrenar cada estimador base a través de validación cruzada, es decir que \n",
    "# esta estrategia usa una cantidad menor para el entrenamiento de dichos estimadores base.\n",
    "\n",
    "arbol_Stack = DecisionTreeClassifier()\n",
    "param11 = {'criterion': ['gini', 'entropy'],\n",
    "         'splitter' : ['best', 'random'],\n",
    "         'max_depth': [(1),(3),(5),(7),(9)],\n",
    "         'min_samples_split' : [(2),(4),(6)],\n",
    "         'min_samples_leaf' : [(1),(3),(5)],\n",
    "         'max_features' : [(1),(3),(5),(7),(9)],\n",
    "        }\n",
    "\n",
    "clfStack = GridSearchCV(arbol_Stack, param11, n_jobs=-1, cv=kf, scoring='f1', refit=True)\n",
    "obEntrenadoArbol = clfStack.fit(data1, target)\n",
    "modeloObtenidoArbol = clfStack.best_estimator_\n",
    "\n",
    "print('Parámetros seleccionados para arbol_Stack:', modeloObtenidoArbol)\n",
    "print('Parámetros: ', clfStack.best_params_)\n",
    "print('##########################################################################################################')\n",
    "print('') "
   ]
  },
  {
   "cell_type": "raw",
   "id": "df166c13",
   "metadata": {},
   "source": [
    "2) Estimación de parámetros para el algoritmo de segundo nivel:"
   ]
  },
  {
   "cell_type": "code",
   "execution_count": 71,
   "id": "4f0d76df",
   "metadata": {},
   "outputs": [
    {
     "name": "stdout",
     "output_type": "stream",
     "text": [
      "Mejores parámetros de Logistic Regression :  {'solver': 'newton-cg'}\n"
     ]
    }
   ],
   "source": [
    "#4)Regresión logística\n",
    "logR = LogisticRegression()\n",
    "atribut = {\n",
    "           'solver' : ['newton-cg', 'lbfgs', 'liblinear', 'sag', 'saga'],\n",
    "           }\n",
    "\n",
    "clf6 = GridSearchCV(logR, atribut, n_jobs=-1, cv=kf, scoring='f1', refit=True)\n",
    "obje = clf6.fit(data1, target)\n",
    "best= clf6.best_estimator_\n",
    "\n",
    "print('Mejores parámetros de Logistic Regression : ',  clf6.best_params_)"
   ]
  },
  {
   "cell_type": "raw",
   "id": "206991cd",
   "metadata": {},
   "source": [
    "3) Estimación de parámetros para el algoritmo de ensamble, es decir para Stacking Classifier"
   ]
  },
  {
   "cell_type": "code",
   "execution_count": 75,
   "id": "4ef78571",
   "metadata": {},
   "outputs": [],
   "source": [
    "#Definición de los vectores que contienen los estimadores de primer y segundo nivel.\n",
    "modelos = [('MVS', bestModelo),('KNC',best_knn_Stack),('DTC', modeloObtenidoArbol)]\n",
    "modeloSalida = best"
   ]
  },
  {
   "cell_type": "code",
   "execution_count": 81,
   "id": "739fe373",
   "metadata": {},
   "outputs": [
    {
     "name": "stdout",
     "output_type": "stream",
     "text": [
      "Mejores parámetros de StackingClassifier :  {'cv': 3, 'passthrough': 'True'}\n"
     ]
    }
   ],
   "source": [
    "#Stacking Classifier\n",
    "\n",
    "stack =  StackingClassifier(estimators=modelos, final_estimator= modeloSalida)\n",
    "atr = {'cv' : [(2),(3),(4)],\n",
    "       'passthrough' : ['True', 'False'],\n",
    "        }\n",
    "\n",
    "clf7 = GridSearchCV(stack, atr, n_jobs=-1, cv=kf, scoring='f1', refit=True)\n",
    "ob = clf7.fit(data1, target)\n",
    "modeloStack = clf7.best_estimator_\n",
    "\n",
    "print('Mejores parámetros de StackingClassifier : ',  clf7.best_params_)"
   ]
  },
  {
   "cell_type": "raw",
   "id": "7f371c5e",
   "metadata": {},
   "source": [
    "4) Construcción del modelo"
   ]
  },
  {
   "cell_type": "code",
   "execution_count": 124,
   "id": "85bc15ed",
   "metadata": {},
   "outputs": [],
   "source": [
    "modeloStack =  StackingClassifier(estimators=modelos, final_estimator= modeloSalida, cv=3, passthrough='True')"
   ]
  },
  {
   "cell_type": "markdown",
   "id": "ac624de2",
   "metadata": {},
   "source": [
    "### Evaluaciones del modelo svc"
   ]
  },
  {
   "cell_type": "code",
   "execution_count": 53,
   "id": "9f0dca0f",
   "metadata": {},
   "outputs": [
    {
     "name": "stdout",
     "output_type": "stream",
     "text": [
      "Métricas cross_validation:  [0.5 1.  0.8]\n",
      "Media de las métricas de cross_validation:  0.7666666666666666\n",
      "Desviación estándar de las métricas de cross_validation:  0.20548046676563256\n"
     ]
    }
   ],
   "source": [
    "evaluacion1 = cross_val_score(bestModelo, data1, target, cv=kf, scoring='f1')#Solo se puede escoger una métrica\n",
    "\n",
    "print(\"Métricas cross_validation: \",evaluacion1)\n",
    "print(\"Media de las métricas de cross_validation: \",evaluacion1.mean())\n",
    "print(\"Desviación estándar de las métricas de cross_validation: \",evaluacion1.std())"
   ]
  },
  {
   "cell_type": "code",
   "execution_count": 54,
   "id": "599a577c",
   "metadata": {},
   "outputs": [
    {
     "name": "stdout",
     "output_type": "stream",
     "text": [
      "Métricas cross_validation:  [0.5 1.  0.8]\n",
      "Media de las métricas de cross_validation:  0.7666666666666666\n",
      "Desviación estándar de las métricas de cross_validation:  0.20548046676563256\n"
     ]
    }
   ],
   "source": [
    "evaluacion2 = cross_val_score(bestModelo, data1, target, cv=kf, scoring='f1')#Solo se puede escoger una métrica\n",
    "\n",
    "print(\"Métricas cross_validation: \",evaluacion2)\n",
    "print(\"Media de las métricas de cross_validation: \",evaluacion2.mean())\n",
    "print(\"Desviación estándar de las métricas de cross_validation: \",evaluacion2.std())"
   ]
  },
  {
   "cell_type": "code",
   "execution_count": 55,
   "id": "63f948ca",
   "metadata": {},
   "outputs": [
    {
     "name": "stdout",
     "output_type": "stream",
     "text": [
      "Métricas cross_validation:  [0.5 1.  0.8]\n",
      "Media de las métricas de cross_validation:  0.7666666666666666\n",
      "Desviación estándar de las métricas de cross_validation:  0.20548046676563256\n"
     ]
    }
   ],
   "source": [
    "evaluacion3 = cross_val_score(bestModelo, data1, target, cv=kf, scoring='f1')#Solo se puede escoger una métrica\n",
    "print(\"Métricas cross_validation: \",evaluacion3)\n",
    "print(\"Media de las métricas de cross_validation: \",evaluacion3.mean())\n",
    "print(\"Desviación estándar de las métricas de cross_validation: \",evaluacion3.std())"
   ]
  },
  {
   "cell_type": "markdown",
   "id": "6749abc2",
   "metadata": {},
   "source": [
    "### Evaluaciones del modelo de k vecinos más cercanos"
   ]
  },
  {
   "cell_type": "code",
   "execution_count": 57,
   "id": "38435d66",
   "metadata": {},
   "outputs": [
    {
     "name": "stdout",
     "output_type": "stream",
     "text": [
      "Métricas cross_validation:  [0.  0.  0.5]\n",
      "Media de las métricas de cross_validation:  0.16666666666666666\n",
      "Desviación estándar de las métricas de cross_validation:  0.23570226039551584\n"
     ]
    }
   ],
   "source": [
    "evaluacion11 = cross_val_score(best_knn_Stack, data1, target, cv=kf, scoring='f1')#Solo se puede escoger una métrica\n",
    "\n",
    "print(\"Métricas cross_validation: \",evaluacion11)\n",
    "print(\"Media de las métricas de cross_validation: \",evaluacion11.mean())\n",
    "print(\"Desviación estándar de las métricas de cross_validation: \",evaluacion11.std())"
   ]
  },
  {
   "cell_type": "code",
   "execution_count": 58,
   "id": "31df3bfd",
   "metadata": {},
   "outputs": [
    {
     "name": "stdout",
     "output_type": "stream",
     "text": [
      "Métricas cross_validation:  [0.  0.  0.5]\n",
      "Media de las métricas de cross_validation:  0.16666666666666666\n",
      "Desviación estándar de las métricas de cross_validation:  0.23570226039551584\n"
     ]
    }
   ],
   "source": [
    "evaluacion22 = cross_val_score(best_knn_Stack, data1, target, cv=kf, scoring='f1')#Solo se puede escoger una métrica\n",
    "\n",
    "print(\"Métricas cross_validation: \",evaluacion22)\n",
    "print(\"Media de las métricas de cross_validation: \",evaluacion22.mean())\n",
    "print(\"Desviación estándar de las métricas de cross_validation: \",evaluacion22.std())"
   ]
  },
  {
   "cell_type": "code",
   "execution_count": 59,
   "id": "951f437f",
   "metadata": {},
   "outputs": [
    {
     "name": "stdout",
     "output_type": "stream",
     "text": [
      "Métricas cross_validation:  [0.  0.  0.5]\n",
      "Media de las métricas de cross_validation:  0.16666666666666666\n",
      "Desviación estándar de las métricas de cross_validation:  0.23570226039551584\n"
     ]
    }
   ],
   "source": [
    "evaluacion33 = cross_val_score(best_knn_Stack, data1, target, cv=kf, scoring='f1')#Solo se puede escoger una métrica\n",
    "\n",
    "print(\"Métricas cross_validation: \",evaluacion33)\n",
    "print(\"Media de las métricas de cross_validation: \",evaluacion33.mean())\n",
    "print(\"Desviación estándar de las métricas de cross_validation: \",evaluacion33.std())"
   ]
  },
  {
   "cell_type": "markdown",
   "id": "be78e367",
   "metadata": {},
   "source": [
    "### Evaluaciones del modelo de árboles de decisión"
   ]
  },
  {
   "cell_type": "code",
   "execution_count": 64,
   "id": "ca3c982d",
   "metadata": {},
   "outputs": [
    {
     "name": "stdout",
     "output_type": "stream",
     "text": [
      "Métricas cross_validation:  [0.         0.         0.66666667]\n",
      "Media de las métricas de cross_validation:  0.2222222222222222\n",
      "Desviación estándar de las métricas de cross_validation:  0.31426968052735443\n"
     ]
    }
   ],
   "source": [
    "evaluacion111 = cross_val_score(modeloObtenidoArbol, data1, target, cv=kf, scoring='f1')#Solo se puede escoger una métrica\n",
    "\n",
    "print(\"Métricas cross_validation: \",evaluacion111)\n",
    "print(\"Media de las métricas de cross_validation: \",evaluacion111.mean())\n",
    "print(\"Desviación estándar de las métricas de cross_validation: \",evaluacion111.std())"
   ]
  },
  {
   "cell_type": "code",
   "execution_count": 65,
   "id": "78dbae8e",
   "metadata": {},
   "outputs": [
    {
     "name": "stdout",
     "output_type": "stream",
     "text": [
      "Métricas cross_validation:  [0.75 0.   0.  ]\n",
      "Media de las métricas de cross_validation:  0.24999999999999997\n",
      "Desviación estándar de las métricas de cross_validation:  0.35355339059327373\n"
     ]
    }
   ],
   "source": [
    "evaluacion222 = cross_val_score(modeloObtenidoArbol, data1, target, cv=kf, scoring='f1')#Solo se puede escoger una métrica\n",
    "\n",
    "print(\"Métricas cross_validation: \",evaluacion222)\n",
    "print(\"Media de las métricas de cross_validation: \",evaluacion222.mean())\n",
    "print(\"Desviación estándar de las métricas de cross_validation: \",evaluacion222.std())"
   ]
  },
  {
   "cell_type": "code",
   "execution_count": 70,
   "id": "633ea06a",
   "metadata": {},
   "outputs": [
    {
     "name": "stdout",
     "output_type": "stream",
     "text": [
      "Métricas cross_validation:  [0.         0.66666667 0.5       ]\n",
      "Media de las métricas de cross_validation:  0.38888888888888884\n",
      "Desviación estándar de las métricas de cross_validation:  0.2832788618662658\n"
     ]
    }
   ],
   "source": [
    "evaluacion333 = cross_val_score(modeloObtenidoArbol, data1, target, cv=kf, scoring='f1')#Solo se puede escoger una métrica\n",
    "\n",
    "print(\"Métricas cross_validation: \",evaluacion333)\n",
    "print(\"Media de las métricas de cross_validation: \",evaluacion333.mean())\n",
    "print(\"Desviación estándar de las métricas de cross_validation: \",evaluacion333.std())"
   ]
  },
  {
   "cell_type": "markdown",
   "id": "9b04b5e7",
   "metadata": {},
   "source": [
    "### Evaluaciones del modelo de regresión logística"
   ]
  },
  {
   "cell_type": "code",
   "execution_count": 72,
   "id": "abd2c026",
   "metadata": {},
   "outputs": [
    {
     "name": "stdout",
     "output_type": "stream",
     "text": [
      "Métricas cross_validation:  [0.         0.66666667 0.8       ]\n",
      "Media de las métricas de cross_validation:  0.48888888888888893\n",
      "Desviación estándar de las métricas de cross_validation:  0.3499559055116361\n"
     ]
    }
   ],
   "source": [
    "evaluacion_1 = cross_val_score(best, data1, target, cv=kf, scoring='f1')#Solo se puede escoger una métrica\n",
    "\n",
    "print(\"Métricas cross_validation: \",evaluacion_1)\n",
    "print(\"Media de las métricas de cross_validation: \",evaluacion_1.mean())\n",
    "print(\"Desviación estándar de las métricas de cross_validation: \",evaluacion_1.std())"
   ]
  },
  {
   "cell_type": "code",
   "execution_count": 73,
   "id": "02772347",
   "metadata": {},
   "outputs": [
    {
     "name": "stdout",
     "output_type": "stream",
     "text": [
      "Métricas cross_validation:  [0.         0.66666667 0.8       ]\n",
      "Media de las métricas de cross_validation:  0.48888888888888893\n",
      "Desviación estándar de las métricas de cross_validation:  0.3499559055116361\n"
     ]
    }
   ],
   "source": [
    "evaluacion_2 = cross_val_score(best, data1, target, cv=kf, scoring='f1')#Solo se puede escoger una métrica\n",
    "\n",
    "print(\"Métricas cross_validation: \",evaluacion_2)\n",
    "print(\"Media de las métricas de cross_validation: \",evaluacion_2.mean())\n",
    "print(\"Desviación estándar de las métricas de cross_validation: \",evaluacion_2.std())"
   ]
  },
  {
   "cell_type": "code",
   "execution_count": 74,
   "id": "a704857c",
   "metadata": {},
   "outputs": [
    {
     "name": "stdout",
     "output_type": "stream",
     "text": [
      "Métricas cross_validation:  [0.         0.66666667 0.8       ]\n",
      "Media de las métricas de cross_validation:  0.48888888888888893\n",
      "Desviación estándar de las métricas de cross_validation:  0.3499559055116361\n"
     ]
    }
   ],
   "source": [
    "evaluacion_3 = cross_val_score(best, data1, target, cv=kf, scoring='f1')#Solo se puede escoger una métrica\n",
    "\n",
    "print(\"Métricas cross_validation: \",evaluacion_3)\n",
    "print(\"Media de las métricas de cross_validation: \",evaluacion_3.mean())\n",
    "print(\"Desviación estándar de las métricas de cross_validation: \",evaluacion_3.std())"
   ]
  },
  {
   "cell_type": "markdown",
   "id": "cc9717d0",
   "metadata": {},
   "source": [
    "### Cross-validation utilizando el mejor modelo de StackingClassifier"
   ]
  },
  {
   "cell_type": "code",
   "execution_count": 88,
   "id": "d7e9d8fe",
   "metadata": {},
   "outputs": [
    {
     "name": "stdout",
     "output_type": "stream",
     "text": [
      "Métricas cross_validation:  [0.  0.  0.8]\n",
      "Media de las métricas de cross_validation:  0.26666666666666666\n",
      "Desviación estándar de las métricas de cross_validation:  0.3771236166328254\n"
     ]
    }
   ],
   "source": [
    "scoresStack = cross_val_score(modeloStack, data1, target, cv=kf, scoring='f1')#Solo se puede escoger una métrica\n",
    "\n",
    "print(\"Métricas cross_validation: \",scoresStack)\n",
    "print(\"Media de las métricas de cross_validation: \",scoresStack.mean())\n",
    "print(\"Desviación estándar de las métricas de cross_validation: \",scoresStack.std())"
   ]
  },
  {
   "cell_type": "code",
   "execution_count": 89,
   "id": "cf781e24",
   "metadata": {},
   "outputs": [
    {
     "name": "stdout",
     "output_type": "stream",
     "text": [
      "Métricas cross_validation:  [0.  0.  0.8]\n",
      "Media de las métricas de cross_validation:  0.26666666666666666\n",
      "Desviación estándar de las métricas de cross_validation:  0.3771236166328254\n"
     ]
    }
   ],
   "source": [
    "scoresStack1 = cross_val_score(modeloStack, data1, target, cv=kf, scoring='f1')#Solo se puede escoger una métrica\n",
    "\n",
    "print(\"Métricas cross_validation: \",scoresStack1)\n",
    "print(\"Media de las métricas de cross_validation: \",scoresStack1.mean())\n",
    "print(\"Desviación estándar de las métricas de cross_validation: \",scoresStack1.std())"
   ]
  },
  {
   "cell_type": "code",
   "execution_count": 90,
   "id": "51a232a0",
   "metadata": {},
   "outputs": [
    {
     "name": "stdout",
     "output_type": "stream",
     "text": [
      "Métricas cross_validation:  [0.  0.  0.8]\n",
      "Media de las métricas de cross_validation:  0.26666666666666666\n",
      "Desviación estándar de las métricas de cross_validation:  0.3771236166328254\n"
     ]
    }
   ],
   "source": [
    "scoresStack2 = cross_val_score(modeloStack, data1, target, cv=kf, scoring='f1')#Solo se puede escoger una métrica\n",
    "\n",
    "print(\"Métricas cross_validation: \",scoresStack2)\n",
    "print(\"Media de las métricas de cross_validation: \",scoresStack2.mean())\n",
    "print(\"Desviación estándar de las métricas de cross_validation: \",scoresStack2.std())"
   ]
  },
  {
   "cell_type": "markdown",
   "id": "283ee565",
   "metadata": {},
   "source": [
    "## Gráfica del f1 score obtenido durante las tres iteraciones de la evaluación del modelo simple (Máquinas de vectores de soporte)  y el modelo de ensamble (Stacking Classifier) que presentaron la media más alta"
   ]
  },
  {
   "cell_type": "code",
   "execution_count": 114,
   "id": "389d9348",
   "metadata": {},
   "outputs": [
    {
     "data": {
      "text/html": [
       "<div>\n",
       "<style scoped>\n",
       "    .dataframe tbody tr th:only-of-type {\n",
       "        vertical-align: middle;\n",
       "    }\n",
       "\n",
       "    .dataframe tbody tr th {\n",
       "        vertical-align: top;\n",
       "    }\n",
       "\n",
       "    .dataframe thead th {\n",
       "        text-align: right;\n",
       "    }\n",
       "</style>\n",
       "<table border=\"1\" class=\"dataframe\">\n",
       "  <thead>\n",
       "    <tr style=\"text-align: right;\">\n",
       "      <th></th>\n",
       "      <th>PARTICIONES</th>\n",
       "      <th>VALORES_METRICAS</th>\n",
       "      <th>ESTIMADORES</th>\n",
       "    </tr>\n",
       "  </thead>\n",
       "  <tbody>\n",
       "    <tr>\n",
       "      <th>0</th>\n",
       "      <td>1</td>\n",
       "      <td>0.5</td>\n",
       "      <td>1</td>\n",
       "    </tr>\n",
       "    <tr>\n",
       "      <th>1</th>\n",
       "      <td>2</td>\n",
       "      <td>1.0</td>\n",
       "      <td>1</td>\n",
       "    </tr>\n",
       "    <tr>\n",
       "      <th>2</th>\n",
       "      <td>3</td>\n",
       "      <td>0.8</td>\n",
       "      <td>1</td>\n",
       "    </tr>\n",
       "    <tr>\n",
       "      <th>3</th>\n",
       "      <td>1</td>\n",
       "      <td>0.0</td>\n",
       "      <td>4</td>\n",
       "    </tr>\n",
       "    <tr>\n",
       "      <th>4</th>\n",
       "      <td>2</td>\n",
       "      <td>0.0</td>\n",
       "      <td>4</td>\n",
       "    </tr>\n",
       "    <tr>\n",
       "      <th>5</th>\n",
       "      <td>3</td>\n",
       "      <td>0.8</td>\n",
       "      <td>4</td>\n",
       "    </tr>\n",
       "  </tbody>\n",
       "</table>\n",
       "</div>"
      ],
      "text/plain": [
       "   PARTICIONES  VALORES_METRICAS  ESTIMADORES\n",
       "0            1               0.5            1\n",
       "1            2               1.0            1\n",
       "2            3               0.8            1\n",
       "3            1               0.0            4\n",
       "4            2               0.0            4\n",
       "5            3               0.8            4"
      ]
     },
     "execution_count": 114,
     "metadata": {},
     "output_type": "execute_result"
    }
   ],
   "source": [
    "dataMetricas3 = {'PARTICIONES' : [1,2,3,1,2,3], 'VALORES_METRICAS' : [0.50 , 1.00 , 0.80, 0.0, 0.0, 0.80], 'ESTIMADORES' : [1,1,1,4,4,4]}\n",
    "dataMetricas3 = pd.DataFrame(dataMetricas3)\n",
    "dataMetricas3"
   ]
  },
  {
   "cell_type": "code",
   "execution_count": 115,
   "id": "f7f45996",
   "metadata": {},
   "outputs": [
    {
     "data": {
      "text/html": [
       "<div>\n",
       "<style scoped>\n",
       "    .dataframe tbody tr th:only-of-type {\n",
       "        vertical-align: middle;\n",
       "    }\n",
       "\n",
       "    .dataframe tbody tr th {\n",
       "        vertical-align: top;\n",
       "    }\n",
       "\n",
       "    .dataframe thead th {\n",
       "        text-align: right;\n",
       "    }\n",
       "</style>\n",
       "<table border=\"1\" class=\"dataframe\">\n",
       "  <thead>\n",
       "    <tr style=\"text-align: right;\">\n",
       "      <th></th>\n",
       "      <th>ESTIMADORES</th>\n",
       "      <th>PARTICIONES</th>\n",
       "      <th>VALORES_METRICAS</th>\n",
       "      <th>0</th>\n",
       "    </tr>\n",
       "  </thead>\n",
       "  <tbody>\n",
       "    <tr>\n",
       "      <th>0</th>\n",
       "      <td>1</td>\n",
       "      <td>1</td>\n",
       "      <td>0.5</td>\n",
       "      <td>1</td>\n",
       "    </tr>\n",
       "    <tr>\n",
       "      <th>1</th>\n",
       "      <td>1</td>\n",
       "      <td>2</td>\n",
       "      <td>1.0</td>\n",
       "      <td>1</td>\n",
       "    </tr>\n",
       "    <tr>\n",
       "      <th>2</th>\n",
       "      <td>1</td>\n",
       "      <td>3</td>\n",
       "      <td>0.8</td>\n",
       "      <td>1</td>\n",
       "    </tr>\n",
       "    <tr>\n",
       "      <th>3</th>\n",
       "      <td>4</td>\n",
       "      <td>1</td>\n",
       "      <td>0.0</td>\n",
       "      <td>1</td>\n",
       "    </tr>\n",
       "    <tr>\n",
       "      <th>4</th>\n",
       "      <td>4</td>\n",
       "      <td>2</td>\n",
       "      <td>0.0</td>\n",
       "      <td>1</td>\n",
       "    </tr>\n",
       "    <tr>\n",
       "      <th>5</th>\n",
       "      <td>4</td>\n",
       "      <td>3</td>\n",
       "      <td>0.8</td>\n",
       "      <td>1</td>\n",
       "    </tr>\n",
       "  </tbody>\n",
       "</table>\n",
       "</div>"
      ],
      "text/plain": [
       "   ESTIMADORES  PARTICIONES  VALORES_METRICAS  0\n",
       "0            1            1               0.5  1\n",
       "1            1            2               1.0  1\n",
       "2            1            3               0.8  1\n",
       "3            4            1               0.0  1\n",
       "4            4            2               0.0  1\n",
       "5            4            3               0.8  1"
      ]
     },
     "execution_count": 115,
     "metadata": {},
     "output_type": "execute_result"
    }
   ],
   "source": [
    "valores3 = dataMetricas3.groupby(['ESTIMADORES', 'PARTICIONES','VALORES_METRICAS']).size()\n",
    "valores3 = valores3.reset_index()\n",
    "valores3"
   ]
  },
  {
   "cell_type": "code",
   "execution_count": 116,
   "id": "5771f689",
   "metadata": {},
   "outputs": [
    {
     "data": {
      "text/html": [
       "<div>\n",
       "<style scoped>\n",
       "    .dataframe tbody tr th:only-of-type {\n",
       "        vertical-align: middle;\n",
       "    }\n",
       "\n",
       "    .dataframe tbody tr th {\n",
       "        vertical-align: top;\n",
       "    }\n",
       "\n",
       "    .dataframe thead th {\n",
       "        text-align: right;\n",
       "    }\n",
       "</style>\n",
       "<table border=\"1\" class=\"dataframe\">\n",
       "  <thead>\n",
       "    <tr style=\"text-align: right;\">\n",
       "      <th>ESTIMADORES</th>\n",
       "      <th>1</th>\n",
       "      <th>4</th>\n",
       "    </tr>\n",
       "    <tr>\n",
       "      <th>PARTICIONES</th>\n",
       "      <th></th>\n",
       "      <th></th>\n",
       "    </tr>\n",
       "  </thead>\n",
       "  <tbody>\n",
       "    <tr>\n",
       "      <th>1</th>\n",
       "      <td>0.5</td>\n",
       "      <td>0.0</td>\n",
       "    </tr>\n",
       "    <tr>\n",
       "      <th>2</th>\n",
       "      <td>1.0</td>\n",
       "      <td>0.0</td>\n",
       "    </tr>\n",
       "    <tr>\n",
       "      <th>3</th>\n",
       "      <td>0.8</td>\n",
       "      <td>0.8</td>\n",
       "    </tr>\n",
       "  </tbody>\n",
       "</table>\n",
       "</div>"
      ],
      "text/plain": [
       "ESTIMADORES    1    4\n",
       "PARTICIONES          \n",
       "1            0.5  0.0\n",
       "2            1.0  0.0\n",
       "3            0.8  0.8"
      ]
     },
     "execution_count": 116,
     "metadata": {},
     "output_type": "execute_result"
    }
   ],
   "source": [
    "valores3 = pd.pivot_table(valores3, columns = 'ESTIMADORES' , index = 'PARTICIONES', values = 'VALORES_METRICAS')\n",
    "valores3"
   ]
  },
  {
   "cell_type": "code",
   "execution_count": 117,
   "id": "c02cd915",
   "metadata": {},
   "outputs": [
    {
     "data": {
      "text/plain": [
       "Text(0.5, 0, 'Iteraciones')"
      ]
     },
     "execution_count": 117,
     "metadata": {},
     "output_type": "execute_result"
    },
    {
     "data": {
      "image/png": "[encoded data removed]",
      "text/plain": [
       "<Figure size 576x432 with 1 Axes>"
      ]
     },
     "metadata": {
      "needs_background": "light"
     },
     "output_type": "display_data"
    }
   ],
   "source": [
    "valores3 = valores3.plot(kind='bar', figsize=(8,6), title = 'MODELO STACKING CLASSIFIER COMPUESTO POR CUATRO MODELOS DIFERENTES VS MODELO DE MÁQUINAS DE VECTORES DE SOPORTE');\n",
    "valores3.set_ylabel('Valor de F1 score')\n",
    "valores3.set_xlabel('Iteraciones')"
   ]
  },
  {
   "cell_type": "markdown",
   "id": "e4a17b34",
   "metadata": {},
   "source": [
    "## Gráfica del f1 score obtenido durante las tres iteraciones de la evaluación del modelo simple (K vecinos más cercanos)  y el modelo de ensamble (Stacking Classifier) que presentaron la media más alta"
   ]
  },
  {
   "cell_type": "code",
   "execution_count": 95,
   "id": "401f121b",
   "metadata": {},
   "outputs": [
    {
     "data": {
      "text/html": [
       "<div>\n",
       "<style scoped>\n",
       "    .dataframe tbody tr th:only-of-type {\n",
       "        vertical-align: middle;\n",
       "    }\n",
       "\n",
       "    .dataframe tbody tr th {\n",
       "        vertical-align: top;\n",
       "    }\n",
       "\n",
       "    .dataframe thead th {\n",
       "        text-align: right;\n",
       "    }\n",
       "</style>\n",
       "<table border=\"1\" class=\"dataframe\">\n",
       "  <thead>\n",
       "    <tr style=\"text-align: right;\">\n",
       "      <th></th>\n",
       "      <th>PARTICIONES</th>\n",
       "      <th>VALORES_METRICAS</th>\n",
       "      <th>ESTIMADORES</th>\n",
       "    </tr>\n",
       "  </thead>\n",
       "  <tbody>\n",
       "    <tr>\n",
       "      <th>0</th>\n",
       "      <td>1</td>\n",
       "      <td>0.0</td>\n",
       "      <td>1</td>\n",
       "    </tr>\n",
       "    <tr>\n",
       "      <th>1</th>\n",
       "      <td>2</td>\n",
       "      <td>0.0</td>\n",
       "      <td>1</td>\n",
       "    </tr>\n",
       "    <tr>\n",
       "      <th>2</th>\n",
       "      <td>3</td>\n",
       "      <td>0.5</td>\n",
       "      <td>1</td>\n",
       "    </tr>\n",
       "    <tr>\n",
       "      <th>3</th>\n",
       "      <td>1</td>\n",
       "      <td>0.0</td>\n",
       "      <td>4</td>\n",
       "    </tr>\n",
       "    <tr>\n",
       "      <th>4</th>\n",
       "      <td>2</td>\n",
       "      <td>0.0</td>\n",
       "      <td>4</td>\n",
       "    </tr>\n",
       "    <tr>\n",
       "      <th>5</th>\n",
       "      <td>3</td>\n",
       "      <td>0.8</td>\n",
       "      <td>4</td>\n",
       "    </tr>\n",
       "  </tbody>\n",
       "</table>\n",
       "</div>"
      ],
      "text/plain": [
       "   PARTICIONES  VALORES_METRICAS  ESTIMADORES\n",
       "0            1               0.0            1\n",
       "1            2               0.0            1\n",
       "2            3               0.5            1\n",
       "3            1               0.0            4\n",
       "4            2               0.0            4\n",
       "5            3               0.8            4"
      ]
     },
     "execution_count": 95,
     "metadata": {},
     "output_type": "execute_result"
    }
   ],
   "source": [
    "dataMetricas4 = {'PARTICIONES' : [1,2,3,1,2,3], 'VALORES_METRICAS' : [0.0 , 0.0 , 0.50, 0.0, 0.0, 0.80], 'ESTIMADORES' : [1,1,1,4,4,4]}\n",
    "dataMetricas4 = pd.DataFrame(dataMetricas4)\n",
    "dataMetricas4"
   ]
  },
  {
   "cell_type": "code",
   "execution_count": 96,
   "id": "248193a5",
   "metadata": {},
   "outputs": [
    {
     "data": {
      "text/html": [
       "<div>\n",
       "<style scoped>\n",
       "    .dataframe tbody tr th:only-of-type {\n",
       "        vertical-align: middle;\n",
       "    }\n",
       "\n",
       "    .dataframe tbody tr th {\n",
       "        vertical-align: top;\n",
       "    }\n",
       "\n",
       "    .dataframe thead th {\n",
       "        text-align: right;\n",
       "    }\n",
       "</style>\n",
       "<table border=\"1\" class=\"dataframe\">\n",
       "  <thead>\n",
       "    <tr style=\"text-align: right;\">\n",
       "      <th></th>\n",
       "      <th>ESTIMADORES</th>\n",
       "      <th>PARTICIONES</th>\n",
       "      <th>VALORES_METRICAS</th>\n",
       "      <th>0</th>\n",
       "    </tr>\n",
       "  </thead>\n",
       "  <tbody>\n",
       "    <tr>\n",
       "      <th>0</th>\n",
       "      <td>1</td>\n",
       "      <td>1</td>\n",
       "      <td>0.0</td>\n",
       "      <td>1</td>\n",
       "    </tr>\n",
       "    <tr>\n",
       "      <th>1</th>\n",
       "      <td>1</td>\n",
       "      <td>2</td>\n",
       "      <td>0.0</td>\n",
       "      <td>1</td>\n",
       "    </tr>\n",
       "    <tr>\n",
       "      <th>2</th>\n",
       "      <td>1</td>\n",
       "      <td>3</td>\n",
       "      <td>0.5</td>\n",
       "      <td>1</td>\n",
       "    </tr>\n",
       "    <tr>\n",
       "      <th>3</th>\n",
       "      <td>4</td>\n",
       "      <td>1</td>\n",
       "      <td>0.0</td>\n",
       "      <td>1</td>\n",
       "    </tr>\n",
       "    <tr>\n",
       "      <th>4</th>\n",
       "      <td>4</td>\n",
       "      <td>2</td>\n",
       "      <td>0.0</td>\n",
       "      <td>1</td>\n",
       "    </tr>\n",
       "    <tr>\n",
       "      <th>5</th>\n",
       "      <td>4</td>\n",
       "      <td>3</td>\n",
       "      <td>0.8</td>\n",
       "      <td>1</td>\n",
       "    </tr>\n",
       "  </tbody>\n",
       "</table>\n",
       "</div>"
      ],
      "text/plain": [
       "   ESTIMADORES  PARTICIONES  VALORES_METRICAS  0\n",
       "0            1            1               0.0  1\n",
       "1            1            2               0.0  1\n",
       "2            1            3               0.5  1\n",
       "3            4            1               0.0  1\n",
       "4            4            2               0.0  1\n",
       "5            4            3               0.8  1"
      ]
     },
     "execution_count": 96,
     "metadata": {},
     "output_type": "execute_result"
    }
   ],
   "source": [
    "valores4 = dataMetricas4.groupby(['ESTIMADORES', 'PARTICIONES','VALORES_METRICAS']).size()\n",
    "valores4 = valores4.reset_index()\n",
    "valores4"
   ]
  },
  {
   "cell_type": "code",
   "execution_count": 97,
   "id": "190b15d8",
   "metadata": {},
   "outputs": [
    {
     "data": {
      "text/html": [
       "<div>\n",
       "<style scoped>\n",
       "    .dataframe tbody tr th:only-of-type {\n",
       "        vertical-align: middle;\n",
       "    }\n",
       "\n",
       "    .dataframe tbody tr th {\n",
       "        vertical-align: top;\n",
       "    }\n",
       "\n",
       "    .dataframe thead th {\n",
       "        text-align: right;\n",
       "    }\n",
       "</style>\n",
       "<table border=\"1\" class=\"dataframe\">\n",
       "  <thead>\n",
       "    <tr style=\"text-align: right;\">\n",
       "      <th>ESTIMADORES</th>\n",
       "      <th>1</th>\n",
       "      <th>4</th>\n",
       "    </tr>\n",
       "    <tr>\n",
       "      <th>PARTICIONES</th>\n",
       "      <th></th>\n",
       "      <th></th>\n",
       "    </tr>\n",
       "  </thead>\n",
       "  <tbody>\n",
       "    <tr>\n",
       "      <th>1</th>\n",
       "      <td>0.0</td>\n",
       "      <td>0.0</td>\n",
       "    </tr>\n",
       "    <tr>\n",
       "      <th>2</th>\n",
       "      <td>0.0</td>\n",
       "      <td>0.0</td>\n",
       "    </tr>\n",
       "    <tr>\n",
       "      <th>3</th>\n",
       "      <td>0.5</td>\n",
       "      <td>0.8</td>\n",
       "    </tr>\n",
       "  </tbody>\n",
       "</table>\n",
       "</div>"
      ],
      "text/plain": [
       "ESTIMADORES    1    4\n",
       "PARTICIONES          \n",
       "1            0.0  0.0\n",
       "2            0.0  0.0\n",
       "3            0.5  0.8"
      ]
     },
     "execution_count": 97,
     "metadata": {},
     "output_type": "execute_result"
    }
   ],
   "source": [
    "valores4 = pd.pivot_table(valores4, columns = 'ESTIMADORES' , index = 'PARTICIONES', values = 'VALORES_METRICAS')\n",
    "valores4"
   ]
  },
  {
   "cell_type": "code",
   "execution_count": 98,
   "id": "b1aa3613",
   "metadata": {},
   "outputs": [
    {
     "data": {
      "text/plain": [
       "Text(0.5, 0, 'Iteraciones')"
      ]
     },
     "execution_count": 98,
     "metadata": {},
     "output_type": "execute_result"
    },
    {
     "data": {
      "image/png": "[encoded data removed]",
      "text/plain": [
       "<Figure size 576x432 with 1 Axes>"
      ]
     },
     "metadata": {
      "needs_background": "light"
     },
     "output_type": "display_data"
    }
   ],
   "source": [
    "valores4 = valores4.plot(kind='bar', figsize=(8,6), title = 'MODELO STACKING CLASSIFIER COMPUESTO POR CUATRO MODELOS DIFERENTES VS MODELO DE K VECINOS MÁS CERCANOS');\n",
    "valores4.set_ylabel('Valor de F1 score')\n",
    "valores4.set_xlabel('Iteraciones')"
   ]
  },
  {
   "cell_type": "markdown",
   "id": "8720458a",
   "metadata": {},
   "source": [
    "## Gráfica del f1 score obtenido durante las tres iteraciones de la evaluación del modelo simple (Árboles de decisión)  y el modelo de ensamble (Stacking Classifier) que presentaron la media más alta"
   ]
  },
  {
   "cell_type": "code",
   "execution_count": 108,
   "id": "cf773dde",
   "metadata": {},
   "outputs": [
    {
     "data": {
      "text/html": [
       "<div>\n",
       "<style scoped>\n",
       "    .dataframe tbody tr th:only-of-type {\n",
       "        vertical-align: middle;\n",
       "    }\n",
       "\n",
       "    .dataframe tbody tr th {\n",
       "        vertical-align: top;\n",
       "    }\n",
       "\n",
       "    .dataframe thead th {\n",
       "        text-align: right;\n",
       "    }\n",
       "</style>\n",
       "<table border=\"1\" class=\"dataframe\">\n",
       "  <thead>\n",
       "    <tr style=\"text-align: right;\">\n",
       "      <th></th>\n",
       "      <th>PARTICIONES</th>\n",
       "      <th>VALORES_METRICAS</th>\n",
       "      <th>ESTIMADORES</th>\n",
       "    </tr>\n",
       "  </thead>\n",
       "  <tbody>\n",
       "    <tr>\n",
       "      <th>0</th>\n",
       "      <td>1</td>\n",
       "      <td>0.00</td>\n",
       "      <td>1</td>\n",
       "    </tr>\n",
       "    <tr>\n",
       "      <th>1</th>\n",
       "      <td>2</td>\n",
       "      <td>0.67</td>\n",
       "      <td>1</td>\n",
       "    </tr>\n",
       "    <tr>\n",
       "      <th>2</th>\n",
       "      <td>3</td>\n",
       "      <td>0.50</td>\n",
       "      <td>1</td>\n",
       "    </tr>\n",
       "    <tr>\n",
       "      <th>3</th>\n",
       "      <td>1</td>\n",
       "      <td>0.00</td>\n",
       "      <td>4</td>\n",
       "    </tr>\n",
       "    <tr>\n",
       "      <th>4</th>\n",
       "      <td>2</td>\n",
       "      <td>0.00</td>\n",
       "      <td>4</td>\n",
       "    </tr>\n",
       "    <tr>\n",
       "      <th>5</th>\n",
       "      <td>3</td>\n",
       "      <td>0.80</td>\n",
       "      <td>4</td>\n",
       "    </tr>\n",
       "  </tbody>\n",
       "</table>\n",
       "</div>"
      ],
      "text/plain": [
       "   PARTICIONES  VALORES_METRICAS  ESTIMADORES\n",
       "0            1              0.00            1\n",
       "1            2              0.67            1\n",
       "2            3              0.50            1\n",
       "3            1              0.00            4\n",
       "4            2              0.00            4\n",
       "5            3              0.80            4"
      ]
     },
     "execution_count": 108,
     "metadata": {},
     "output_type": "execute_result"
    }
   ],
   "source": [
    "dataMetricas5 = {'PARTICIONES' : [1,2,3,1,2,3], 'VALORES_METRICAS' : [0.0 , 0.67 , 0.50, 0.0, 0.0, 0.80], 'ESTIMADORES' : [1,1,1,4,4,4]}\n",
    "dataMetricas5 = pd.DataFrame(dataMetricas5)\n",
    "dataMetricas5"
   ]
  },
  {
   "cell_type": "code",
   "execution_count": 109,
   "id": "e8fee19d",
   "metadata": {},
   "outputs": [
    {
     "data": {
      "text/html": [
       "<div>\n",
       "<style scoped>\n",
       "    .dataframe tbody tr th:only-of-type {\n",
       "        vertical-align: middle;\n",
       "    }\n",
       "\n",
       "    .dataframe tbody tr th {\n",
       "        vertical-align: top;\n",
       "    }\n",
       "\n",
       "    .dataframe thead th {\n",
       "        text-align: right;\n",
       "    }\n",
       "</style>\n",
       "<table border=\"1\" class=\"dataframe\">\n",
       "  <thead>\n",
       "    <tr style=\"text-align: right;\">\n",
       "      <th></th>\n",
       "      <th>ESTIMADORES</th>\n",
       "      <th>PARTICIONES</th>\n",
       "      <th>VALORES_METRICAS</th>\n",
       "      <th>0</th>\n",
       "    </tr>\n",
       "  </thead>\n",
       "  <tbody>\n",
       "    <tr>\n",
       "      <th>0</th>\n",
       "      <td>1</td>\n",
       "      <td>1</td>\n",
       "      <td>0.00</td>\n",
       "      <td>1</td>\n",
       "    </tr>\n",
       "    <tr>\n",
       "      <th>1</th>\n",
       "      <td>1</td>\n",
       "      <td>2</td>\n",
       "      <td>0.67</td>\n",
       "      <td>1</td>\n",
       "    </tr>\n",
       "    <tr>\n",
       "      <th>2</th>\n",
       "      <td>1</td>\n",
       "      <td>3</td>\n",
       "      <td>0.50</td>\n",
       "      <td>1</td>\n",
       "    </tr>\n",
       "    <tr>\n",
       "      <th>3</th>\n",
       "      <td>4</td>\n",
       "      <td>1</td>\n",
       "      <td>0.00</td>\n",
       "      <td>1</td>\n",
       "    </tr>\n",
       "    <tr>\n",
       "      <th>4</th>\n",
       "      <td>4</td>\n",
       "      <td>2</td>\n",
       "      <td>0.00</td>\n",
       "      <td>1</td>\n",
       "    </tr>\n",
       "    <tr>\n",
       "      <th>5</th>\n",
       "      <td>4</td>\n",
       "      <td>3</td>\n",
       "      <td>0.80</td>\n",
       "      <td>1</td>\n",
       "    </tr>\n",
       "  </tbody>\n",
       "</table>\n",
       "</div>"
      ],
      "text/plain": [
       "   ESTIMADORES  PARTICIONES  VALORES_METRICAS  0\n",
       "0            1            1              0.00  1\n",
       "1            1            2              0.67  1\n",
       "2            1            3              0.50  1\n",
       "3            4            1              0.00  1\n",
       "4            4            2              0.00  1\n",
       "5            4            3              0.80  1"
      ]
     },
     "execution_count": 109,
     "metadata": {},
     "output_type": "execute_result"
    }
   ],
   "source": [
    "valores5 = dataMetricas5.groupby(['ESTIMADORES', 'PARTICIONES','VALORES_METRICAS']).size()\n",
    "valores5 = valores5.reset_index()\n",
    "valores5"
   ]
  },
  {
   "cell_type": "code",
   "execution_count": 110,
   "id": "604c9501",
   "metadata": {},
   "outputs": [
    {
     "data": {
      "text/html": [
       "<div>\n",
       "<style scoped>\n",
       "    .dataframe tbody tr th:only-of-type {\n",
       "        vertical-align: middle;\n",
       "    }\n",
       "\n",
       "    .dataframe tbody tr th {\n",
       "        vertical-align: top;\n",
       "    }\n",
       "\n",
       "    .dataframe thead th {\n",
       "        text-align: right;\n",
       "    }\n",
       "</style>\n",
       "<table border=\"1\" class=\"dataframe\">\n",
       "  <thead>\n",
       "    <tr style=\"text-align: right;\">\n",
       "      <th>ESTIMADORES</th>\n",
       "      <th>1</th>\n",
       "      <th>4</th>\n",
       "    </tr>\n",
       "    <tr>\n",
       "      <th>PARTICIONES</th>\n",
       "      <th></th>\n",
       "      <th></th>\n",
       "    </tr>\n",
       "  </thead>\n",
       "  <tbody>\n",
       "    <tr>\n",
       "      <th>1</th>\n",
       "      <td>0.00</td>\n",
       "      <td>0.0</td>\n",
       "    </tr>\n",
       "    <tr>\n",
       "      <th>2</th>\n",
       "      <td>0.67</td>\n",
       "      <td>0.0</td>\n",
       "    </tr>\n",
       "    <tr>\n",
       "      <th>3</th>\n",
       "      <td>0.50</td>\n",
       "      <td>0.8</td>\n",
       "    </tr>\n",
       "  </tbody>\n",
       "</table>\n",
       "</div>"
      ],
      "text/plain": [
       "ESTIMADORES     1    4\n",
       "PARTICIONES           \n",
       "1            0.00  0.0\n",
       "2            0.67  0.0\n",
       "3            0.50  0.8"
      ]
     },
     "execution_count": 110,
     "metadata": {},
     "output_type": "execute_result"
    }
   ],
   "source": [
    "valores5 = pd.pivot_table(valores5, columns = 'ESTIMADORES' , index = 'PARTICIONES', values = 'VALORES_METRICAS')\n",
    "valores5"
   ]
  },
  {
   "cell_type": "code",
   "execution_count": 111,
   "id": "c22fe2e3",
   "metadata": {},
   "outputs": [
    {
     "data": {
      "text/plain": [
       "Text(0.5, 0, 'Iteraciones')"
      ]
     },
     "execution_count": 111,
     "metadata": {},
     "output_type": "execute_result"
    },
    {
     "data": {
      "image/png": "[encoded data removed]",
      "text/plain": [
       "<Figure size 576x432 with 1 Axes>"
      ]
     },
     "metadata": {
      "needs_background": "light"
     },
     "output_type": "display_data"
    }
   ],
   "source": [
    "valores5 = valores5.plot(kind='bar', figsize=(8,6), title = 'MODELO STACKING CLASSIFIER COMPUESTO POR CUATRO MODELOS DIFERENTES VS MODELO DE ÁRBOL DE DECISIÓN');\n",
    "valores5.set_ylabel('Valor de F1 score')\n",
    "valores5.set_xlabel('Iteraciones')"
   ]
  },
  {
   "cell_type": "markdown",
   "id": "34338372",
   "metadata": {},
   "source": [
    "## Gráfica del f1 score obtenido durante las tres iteraciones de la evaluación del modelo simple (Regresión logística)  y el modelo de ensamble (Stacking Classifier) que presentaron la media más alta"
   ]
  },
  {
   "cell_type": "code",
   "execution_count": 103,
   "id": "e38b7d7d",
   "metadata": {},
   "outputs": [
    {
     "data": {
      "text/html": [
       "<div>\n",
       "<style scoped>\n",
       "    .dataframe tbody tr th:only-of-type {\n",
       "        vertical-align: middle;\n",
       "    }\n",
       "\n",
       "    .dataframe tbody tr th {\n",
       "        vertical-align: top;\n",
       "    }\n",
       "\n",
       "    .dataframe thead th {\n",
       "        text-align: right;\n",
       "    }\n",
       "</style>\n",
       "<table border=\"1\" class=\"dataframe\">\n",
       "  <thead>\n",
       "    <tr style=\"text-align: right;\">\n",
       "      <th></th>\n",
       "      <th>PARTICIONES</th>\n",
       "      <th>VALORES_METRICAS</th>\n",
       "      <th>ESTIMADORES</th>\n",
       "    </tr>\n",
       "  </thead>\n",
       "  <tbody>\n",
       "    <tr>\n",
       "      <th>0</th>\n",
       "      <td>1</td>\n",
       "      <td>0.00</td>\n",
       "      <td>1</td>\n",
       "    </tr>\n",
       "    <tr>\n",
       "      <th>1</th>\n",
       "      <td>2</td>\n",
       "      <td>0.67</td>\n",
       "      <td>1</td>\n",
       "    </tr>\n",
       "    <tr>\n",
       "      <th>2</th>\n",
       "      <td>3</td>\n",
       "      <td>0.80</td>\n",
       "      <td>1</td>\n",
       "    </tr>\n",
       "    <tr>\n",
       "      <th>3</th>\n",
       "      <td>1</td>\n",
       "      <td>0.00</td>\n",
       "      <td>4</td>\n",
       "    </tr>\n",
       "    <tr>\n",
       "      <th>4</th>\n",
       "      <td>2</td>\n",
       "      <td>0.00</td>\n",
       "      <td>4</td>\n",
       "    </tr>\n",
       "    <tr>\n",
       "      <th>5</th>\n",
       "      <td>3</td>\n",
       "      <td>0.80</td>\n",
       "      <td>4</td>\n",
       "    </tr>\n",
       "  </tbody>\n",
       "</table>\n",
       "</div>"
      ],
      "text/plain": [
       "   PARTICIONES  VALORES_METRICAS  ESTIMADORES\n",
       "0            1              0.00            1\n",
       "1            2              0.67            1\n",
       "2            3              0.80            1\n",
       "3            1              0.00            4\n",
       "4            2              0.00            4\n",
       "5            3              0.80            4"
      ]
     },
     "execution_count": 103,
     "metadata": {},
     "output_type": "execute_result"
    }
   ],
   "source": [
    "dataMetricas6 = {'PARTICIONES' : [1,2,3,1,2,3], 'VALORES_METRICAS' : [0.0 , 0.67 , 0.80, 0.0, 0.0, 0.80], 'ESTIMADORES' : [1,1,1,4,4,4]}\n",
    "dataMetricas6 = pd.DataFrame(dataMetricas6)\n",
    "dataMetricas6"
   ]
  },
  {
   "cell_type": "code",
   "execution_count": 104,
   "id": "7b711962",
   "metadata": {},
   "outputs": [
    {
     "data": {
      "text/html": [
       "<div>\n",
       "<style scoped>\n",
       "    .dataframe tbody tr th:only-of-type {\n",
       "        vertical-align: middle;\n",
       "    }\n",
       "\n",
       "    .dataframe tbody tr th {\n",
       "        vertical-align: top;\n",
       "    }\n",
       "\n",
       "    .dataframe thead th {\n",
       "        text-align: right;\n",
       "    }\n",
       "</style>\n",
       "<table border=\"1\" class=\"dataframe\">\n",
       "  <thead>\n",
       "    <tr style=\"text-align: right;\">\n",
       "      <th></th>\n",
       "      <th>ESTIMADORES</th>\n",
       "      <th>PARTICIONES</th>\n",
       "      <th>VALORES_METRICAS</th>\n",
       "      <th>0</th>\n",
       "    </tr>\n",
       "  </thead>\n",
       "  <tbody>\n",
       "    <tr>\n",
       "      <th>0</th>\n",
       "      <td>1</td>\n",
       "      <td>1</td>\n",
       "      <td>0.00</td>\n",
       "      <td>1</td>\n",
       "    </tr>\n",
       "    <tr>\n",
       "      <th>1</th>\n",
       "      <td>1</td>\n",
       "      <td>2</td>\n",
       "      <td>0.67</td>\n",
       "      <td>1</td>\n",
       "    </tr>\n",
       "    <tr>\n",
       "      <th>2</th>\n",
       "      <td>1</td>\n",
       "      <td>3</td>\n",
       "      <td>0.80</td>\n",
       "      <td>1</td>\n",
       "    </tr>\n",
       "    <tr>\n",
       "      <th>3</th>\n",
       "      <td>4</td>\n",
       "      <td>1</td>\n",
       "      <td>0.00</td>\n",
       "      <td>1</td>\n",
       "    </tr>\n",
       "    <tr>\n",
       "      <th>4</th>\n",
       "      <td>4</td>\n",
       "      <td>2</td>\n",
       "      <td>0.00</td>\n",
       "      <td>1</td>\n",
       "    </tr>\n",
       "    <tr>\n",
       "      <th>5</th>\n",
       "      <td>4</td>\n",
       "      <td>3</td>\n",
       "      <td>0.80</td>\n",
       "      <td>1</td>\n",
       "    </tr>\n",
       "  </tbody>\n",
       "</table>\n",
       "</div>"
      ],
      "text/plain": [
       "   ESTIMADORES  PARTICIONES  VALORES_METRICAS  0\n",
       "0            1            1              0.00  1\n",
       "1            1            2              0.67  1\n",
       "2            1            3              0.80  1\n",
       "3            4            1              0.00  1\n",
       "4            4            2              0.00  1\n",
       "5            4            3              0.80  1"
      ]
     },
     "execution_count": 104,
     "metadata": {},
     "output_type": "execute_result"
    }
   ],
   "source": [
    "valores6 = dataMetricas6.groupby(['ESTIMADORES', 'PARTICIONES','VALORES_METRICAS']).size()\n",
    "valores6 = valores6.reset_index()\n",
    "valores6"
   ]
  },
  {
   "cell_type": "code",
   "execution_count": 105,
   "id": "164097bb",
   "metadata": {},
   "outputs": [
    {
     "data": {
      "text/html": [
       "<div>\n",
       "<style scoped>\n",
       "    .dataframe tbody tr th:only-of-type {\n",
       "        vertical-align: middle;\n",
       "    }\n",
       "\n",
       "    .dataframe tbody tr th {\n",
       "        vertical-align: top;\n",
       "    }\n",
       "\n",
       "    .dataframe thead th {\n",
       "        text-align: right;\n",
       "    }\n",
       "</style>\n",
       "<table border=\"1\" class=\"dataframe\">\n",
       "  <thead>\n",
       "    <tr style=\"text-align: right;\">\n",
       "      <th>ESTIMADORES</th>\n",
       "      <th>1</th>\n",
       "      <th>4</th>\n",
       "    </tr>\n",
       "    <tr>\n",
       "      <th>PARTICIONES</th>\n",
       "      <th></th>\n",
       "      <th></th>\n",
       "    </tr>\n",
       "  </thead>\n",
       "  <tbody>\n",
       "    <tr>\n",
       "      <th>1</th>\n",
       "      <td>0.00</td>\n",
       "      <td>0.0</td>\n",
       "    </tr>\n",
       "    <tr>\n",
       "      <th>2</th>\n",
       "      <td>0.67</td>\n",
       "      <td>0.0</td>\n",
       "    </tr>\n",
       "    <tr>\n",
       "      <th>3</th>\n",
       "      <td>0.80</td>\n",
       "      <td>0.8</td>\n",
       "    </tr>\n",
       "  </tbody>\n",
       "</table>\n",
       "</div>"
      ],
      "text/plain": [
       "ESTIMADORES     1    4\n",
       "PARTICIONES           \n",
       "1            0.00  0.0\n",
       "2            0.67  0.0\n",
       "3            0.80  0.8"
      ]
     },
     "execution_count": 105,
     "metadata": {},
     "output_type": "execute_result"
    }
   ],
   "source": [
    "valores6 = pd.pivot_table(valores6, columns = 'ESTIMADORES' , index = 'PARTICIONES', values = 'VALORES_METRICAS')\n",
    "valores6"
   ]
  },
  {
   "cell_type": "code",
   "execution_count": 106,
   "id": "648fe81f",
   "metadata": {},
   "outputs": [
    {
     "data": {
      "text/plain": [
       "Text(0.5, 0, 'Iteraciones')"
      ]
     },
     "execution_count": 106,
     "metadata": {},
     "output_type": "execute_result"
    },
    {
     "data": {
      "image/png": "[encoded data removed]",
      "text/plain": [
       "<Figure size 576x432 with 1 Axes>"
      ]
     },
     "metadata": {
      "needs_background": "light"
     },
     "output_type": "display_data"
    }
   ],
   "source": [
    "valores6 = valores6.plot(kind='bar', figsize=(8,6), title = 'MODELO STACKING CLASSIFIER COMPUESTO POR CUATRO MODELOS DIFERENTES VS MODELO DE REGRESIÓN LOGÍSTICA');\n",
    "valores6.set_ylabel('Valor de F1 score')\n",
    "valores6.set_xlabel('Iteraciones')"
   ]
  },
  {
   "cell_type": "markdown",
   "id": "259e0806",
   "metadata": {},
   "source": [
    "## ENTRENANDO EL MODELO DE ENSAMBLE QUE PRESENTÓ EL MAYOR F1 SCORE"
   ]
  },
  {
   "cell_type": "code",
   "execution_count": 130,
   "id": "e7fcf1b8",
   "metadata": {},
   "outputs": [],
   "source": [
    "modeloEntrenadoEnsamble = mejorModelo2.fit(data1, target)"
   ]
  },
  {
   "cell_type": "markdown",
   "id": "0453c18e",
   "metadata": {},
   "source": [
    "### Cross-validation utilizando el mejor modelo de AdaBoostClassifier"
   ]
  },
  {
   "cell_type": "markdown",
   "id": "d7d9b97d",
   "metadata": {},
   "source": [
    "# TERCERA PARTE"
   ]
  },
  {
   "cell_type": "raw",
   "id": "581e2cb7",
   "metadata": {},
   "source": [
    "En esta parte se guarda el modelo que mejor desempeño presentó. "
   ]
  },
  {
   "cell_type": "code",
   "execution_count": 131,
   "id": "82be6139",
   "metadata": {},
   "outputs": [
    {
     "data": {
      "text/plain": [
       "['modeloMejorDesempeno.joblib']"
      ]
     },
     "execution_count": 131,
     "metadata": {},
     "output_type": "execute_result"
    }
   ],
   "source": [
    "import joblib\n",
    "\n",
    "# Guardar el modelo\n",
    "filename = 'modeloMejorDesempeno.joblib'\n",
    "joblib.dump(modeloEntrenadoEnsamble, filename)\n"
   ]
  },
  {
   "cell_type": "code",
   "execution_count": null,
   "id": "48eceffb",
   "metadata": {},
   "outputs": [],
   "source": [
    " \n",
    "# Si se quiere usar el modelo hay que cargarlo de la siguiente forma:\n",
    "\n",
    "model = joblib.load(filename)\n",
    "\n",
    "result = model.predict()#Hay que pasarle la data\n",
    "print(result)\n"
   ]
  }
 ],
 "metadata": {
  "kernelspec": {
   "display_name": "Python 3 (ipykernel)",
   "language": "python",
   "name": "python3"
  },
  "language_info": {
   "codemirror_mode": {
    "name": "ipython",
    "version": 3
   },
   "file_extension": ".py",
   "mimetype": "text/x-python",
   "name": "python",
   "nbconvert_exporter": "python",
   "pygments_lexer": "ipython3",
   "version": "3.8.12"
  }
 },
 "nbformat": 4,
 "nbformat_minor": 5
}
